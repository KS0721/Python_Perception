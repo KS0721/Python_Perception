{
  "cells": [
    {
      "cell_type": "markdown",
      "metadata": {
        "id": "view-in-github",
        "colab_type": "text"
      },
      "source": [
        "<a href=\"https://colab.research.google.com/github/KS0721/Python_Perception/blob/main/%5Bwsuit2025%5D_02_%ED%8C%8C%EC%9D%B4%EC%8D%AC%EC%9D%84_%EC%9D%B4%EC%9A%A9%ED%95%9C_%EA%B8%B0%EC%B4%88_%EC%9D%B8%EA%B3%B5%EC%A7%80%EB%8A%A5_%EA%B5%AC%ED%98%84_%EC%8B%A4%EC%8A%B5_ipynb%EC%9D%98_%EC%82%AC%EB%B3%B8.ipynb\" target=\"_parent\"><img src=\"https://colab.research.google.com/assets/colab-badge.svg\" alt=\"Open In Colab\"/></a>"
      ]
    },
    {
      "cell_type": "markdown",
      "metadata": {
        "id": "pyu-gb1aM2kd"
      },
      "source": [
        "# 파이썬 프로그래밍을 이용한 인공지능 구현"
      ]
    },
    {
      "cell_type": "markdown",
      "metadata": {
        "id": "i0rcOZHvM_Dv"
      },
      "source": [
        "본 실습은 **\"파이썬을 이용한 기초 인공지능 구현\"** 실습 내용입니다.\n",
        "\n",
        "우선 인터넷이 연결된 컴퓨터에서 크롬 브라우저를 이용하여 본 실습파일을 열어주신 후 지시에 따라 주시기 바랍니다."
      ]
    },
    {
      "cell_type": "markdown",
      "metadata": {
        "id": "66bRtGd2UeCq"
      },
      "source": [
        "## MNIST 데이터셋 가져오기"
      ]
    },
    {
      "cell_type": "code",
      "execution_count": null,
      "metadata": {
        "id": "WVqkroQrSAFV"
      },
      "outputs": [],
      "source": [
        "# tensorflow 에서 MNIST 데이터를 가져옵시다.\n",
        "# mnist 에서 데이터를 가져올 때 load_data() 함수를 사용합니다.\n",
        "# load_data() 의 사용법은 다음과 같습니다.\n",
        "#\n",
        "#    from tensorflow.keras.datasets import mnist\n",
        "#    (x_train, y_train), (x_test, y_test) = mnist.load_data(path='mnist.npz')\n",
        "#\n",
        "# TODO\n",
        "\n",
        "from tensorflow.keras.datasets import mnist\n",
        "(x_train, y_train), (x_test, y_test) = mnist.load_data()\n"
      ]
    },
    {
      "cell_type": "code",
      "execution_count": null,
      "metadata": {
        "colab": {
          "base_uri": "https://localhost:8080/"
        },
        "id": "heZsvM7DTy6H",
        "outputId": "fc3010b7-041f-4c31-daca-2993a6f9822d"
      },
      "outputs": [
        {
          "name": "stdout",
          "output_type": "stream",
          "text": [
            "<class 'numpy.ndarray'> <class 'numpy.ndarray'> (60000, 28, 28) (60000,)\n"
          ]
        }
      ],
      "source": [
        "# x_train 과 y_train 에 있는 값을 살펴봅시다.\n",
        "# type(tf변수) 를 사용하면 변수의 타입을 알 수 있고,\n",
        "# tf변수.shape 을 사용하면 변수의 크기(행렬의 크기)를 알 수 있습니다.\n",
        "#\n",
        "# TODO\n",
        "\n",
        "print(type(x_train), type(y_train), x_train.shape, y_train.shape)\n",
        "\n",
        "\n",
        "\n",
        "\n"
      ]
    },
    {
      "cell_type": "code",
      "execution_count": null,
      "metadata": {
        "colab": {
          "base_uri": "https://localhost:8080/",
          "height": 67
        },
        "id": "N6n5NLDYPcK1",
        "outputId": "f8bde4f6-79ed-4e02-f8b1-25cb10182908"
      },
      "outputs": [
        {
          "data": {
            "text/html": [
              "<style>\n",
              "      .ndarray_repr .ndarray_raw_data {\n",
              "        display: none;\n",
              "      }\n",
              "      .ndarray_repr.show_array .ndarray_raw_data {\n",
              "        display: block;\n",
              "      }\n",
              "      .ndarray_repr.show_array .ndarray_image_preview {\n",
              "        display: none;\n",
              "      }\n",
              "      </style>\n",
              "      <div id=\"id-3ac241a5-b851-4911-a92f-305e67b76fff\" class=\"ndarray_repr\"><pre>ndarray (28, 28) <button style=\"padding: 0 2px;\">show data</button></pre><img src=\"data:image/png;base64,iVBORw0KGgoAAAANSUhEUgAAABwAAAAcCAAAAABXZoBIAAABAElEQVR4nGNgGMyAWUhIqK5jvdSy/9/rGRgYGFhgEnJsVjYCwQwMDAxPJgV+vniQgYGBgREqZ7iXH8r6l/SV4dn7m8gmCt3++/fv37/Htn3/iMW+gDnZf/+e5WbQnoXNNXyMs/5GoQoxwVmf/n9kSGFiwAW49/11wynJoPzx4YIcRlyygR/+/i2XxCWru+vv32nSuGQFYv/83Y3b4p9/fzpAmSyoMnohpiwM1w5h06Q+5enfv39/bcMiJVF09+/fv39P+mFKiTtd/fv3799jgZiBJLT69t+/f/8eDuDEkDJf8+jv379/v7Ryo4qzMDAwMAQGMjBc3/y35wM2V1IfAABFF16Aa0wAOwAAAABJRU5ErkJggg==\" class=\"ndarray_image_preview\" /><pre class=\"ndarray_raw_data\">array([[  0,   0,   0,   0,   0,   0,   0,   0,   0,   0,   0,   0,   0,\n",
              "          0,   0,   0,   0,   0,   0,   0,   0,   0,   0,   0,   0,   0,\n",
              "          0,   0],\n",
              "       [  0,   0,   0,   0,   0,   0,   0,   0,   0,   0,   0,   0,   0,\n",
              "          0,   0,   0,   0,   0,   0,   0,   0,   0,   0,   0,   0,   0,\n",
              "          0,   0],\n",
              "       [  0,   0,   0,   0,   0,   0,   0,   0,   0,   0,   0,   0,   0,\n",
              "          0,   0,   0,   0,   0,   0,   0,   0,   0,   0,   0,   0,   0,\n",
              "          0,   0],\n",
              "       [  0,   0,   0,   0,   0,   0,   0,   0,   0,   0,   0,   0,   0,\n",
              "          0,   0,   0,   0,   0,   0,   0,   0,   0,   0,   0,   0,   0,\n",
              "          0,   0],\n",
              "       [  0,   0,   0,   0,   0,   0,   0,   0,   0,   0,   0,   0,   0,\n",
              "          0,   0,   0,   0,   0,   0,   0,   0,   0,   0,   0,   0,   0,\n",
              "          0,   0],\n",
              "       [  0,   0,   0,   0,   0,   0,   0,   0,   0,   0,   0,   0,   3,\n",
              "         18,  18,  18, 126, 136, 175,  26, 166, 255, 247, 127,   0,   0,\n",
              "          0,   0],\n",
              "       [  0,   0,   0,   0,   0,   0,   0,   0,  30,  36,  94, 154, 170,\n",
              "        253, 253, 253, 253, 253, 225, 172, 253, 242, 195,  64,   0,   0,\n",
              "          0,   0],\n",
              "       [  0,   0,   0,   0,   0,   0,   0,  49, 238, 253, 253, 253, 253,\n",
              "        253, 253, 253, 253, 251,  93,  82,  82,  56,  39,   0,   0,   0,\n",
              "          0,   0],\n",
              "       [  0,   0,   0,   0,   0,   0,   0,  18, 219, 253, 253, 253, 253,\n",
              "        253, 198, 182, 247, 241,   0,   0,   0,   0,   0,   0,   0,   0,\n",
              "          0,   0],\n",
              "       [  0,   0,   0,   0,   0,   0,   0,   0,  80, 156, 107, 253, 253,\n",
              "        205,  11,   0,  43, 154,   0,   0,   0,   0,   0,   0,   0,   0,\n",
              "          0,   0],\n",
              "       [  0,   0,   0,   0,   0,   0,   0,   0,   0,  14,   1, 154, 253,\n",
              "         90,   0,   0,   0,   0,   0,   0,   0,   0,   0,   0,   0,   0,\n",
              "          0,   0],\n",
              "       [  0,   0,   0,   0,   0,   0,   0,   0,   0,   0,   0, 139, 253,\n",
              "        190,   2,   0,   0,   0,   0,   0,   0,   0,   0,   0,   0,   0,\n",
              "          0,   0],\n",
              "       [  0,   0,   0,   0,   0,   0,   0,   0,   0,   0,   0,  11, 190,\n",
              "        253,  70,   0,   0,   0,   0,   0,   0,   0,   0,   0,   0,   0,\n",
              "          0,   0],\n",
              "       [  0,   0,   0,   0,   0,   0,   0,   0,   0,   0,   0,   0,  35,\n",
              "        241, 225, 160, 108,   1,   0,   0,   0,   0,   0,   0,   0,   0,\n",
              "          0,   0],\n",
              "       [  0,   0,   0,   0,   0,   0,   0,   0,   0,   0,   0,   0,   0,\n",
              "         81, 240, 253, 253, 119,  25,   0,   0,   0,   0,   0,   0,   0,\n",
              "          0,   0],\n",
              "       [  0,   0,   0,   0,   0,   0,   0,   0,   0,   0,   0,   0,   0,\n",
              "          0,  45, 186, 253, 253, 150,  27,   0,   0,   0,   0,   0,   0,\n",
              "          0,   0],\n",
              "       [  0,   0,   0,   0,   0,   0,   0,   0,   0,   0,   0,   0,   0,\n",
              "          0,   0,  16,  93, 252, 253, 187,   0,   0,   0,   0,   0,   0,\n",
              "          0,   0],\n",
              "       [  0,   0,   0,   0,   0,   0,   0,   0,   0,   0,   0,   0,   0,\n",
              "          0,   0,   0,   0, 249, 253, 249,  64,   0,   0,   0,   0,   0,\n",
              "          0,   0],\n",
              "       [  0,   0,   0,   0,   0,   0,   0,   0,   0,   0,   0,   0,   0,\n",
              "          0,  46, 130, 183, 253, 253, 207,   2,   0,   0,   0,   0,   0,\n",
              "          0,   0],\n",
              "       [  0,   0,   0,   0,   0,   0,   0,   0,   0,   0,   0,   0,  39,\n",
              "        148, 229, 253, 253, 253, 250, 182,   0,   0,   0,   0,   0,   0,\n",
              "          0,   0],\n",
              "       [  0,   0,   0,   0,   0,   0,   0,   0,   0,   0,  24, 114, 221,\n",
              "        253, 253, 253, 253, 201,  78,   0,   0,   0,   0,   0,   0,   0,\n",
              "          0,   0],\n",
              "       [  0,   0,   0,   0,   0,   0,   0,   0,  23,  66, 213, 253, 253,\n",
              "        253, 253, 198,  81,   2,   0,   0,   0,   0,   0,   0,   0,   0,\n",
              "          0,   0],\n",
              "       [  0,   0,   0,   0,   0,   0,  18, 171, 219, 253, 253, 253, 253,\n",
              "        195,  80,   9,   0,   0,   0,   0,   0,   0,   0,   0,   0,   0,\n",
              "          0,   0],\n",
              "       [  0,   0,   0,   0,  55, 172, 226, 253, 253, 253, 253, 244, 133,\n",
              "         11,   0,   0,   0,   0,   0,   0,   0,   0,   0,   0,   0,   0,\n",
              "          0,   0],\n",
              "       [  0,   0,   0,   0, 136, 253, 253, 253, 212, 135, 132,  16,   0,\n",
              "          0,   0,   0,   0,   0,   0,   0,   0,   0,   0,   0,   0,   0,\n",
              "          0,   0],\n",
              "       [  0,   0,   0,   0,   0,   0,   0,   0,   0,   0,   0,   0,   0,\n",
              "          0,   0,   0,   0,   0,   0,   0,   0,   0,   0,   0,   0,   0,\n",
              "          0,   0],\n",
              "       [  0,   0,   0,   0,   0,   0,   0,   0,   0,   0,   0,   0,   0,\n",
              "          0,   0,   0,   0,   0,   0,   0,   0,   0,   0,   0,   0,   0,\n",
              "          0,   0],\n",
              "       [  0,   0,   0,   0,   0,   0,   0,   0,   0,   0,   0,   0,   0,\n",
              "          0,   0,   0,   0,   0,   0,   0,   0,   0,   0,   0,   0,   0,\n",
              "          0,   0]], dtype=uint8)</pre></div><script>\n",
              "      (() => {\n",
              "      const titles = ['show data', 'hide data'];\n",
              "      let index = 0\n",
              "      document.querySelector('#id-3ac241a5-b851-4911-a92f-305e67b76fff button').onclick = (e) => {\n",
              "        document.querySelector('#id-3ac241a5-b851-4911-a92f-305e67b76fff').classList.toggle('show_array');\n",
              "        index = (++index) % 2;\n",
              "        document.querySelector('#id-3ac241a5-b851-4911-a92f-305e67b76fff button').textContent = titles[index];\n",
              "        e.preventDefault();\n",
              "        e.stopPropagation();\n",
              "      }\n",
              "      })();\n",
              "    </script>"
            ],
            "text/plain": [
              "array([[  0,   0,   0,   0,   0,   0,   0,   0,   0,   0,   0,   0,   0,\n",
              "          0,   0,   0,   0,   0,   0,   0,   0,   0,   0,   0,   0,   0,\n",
              "          0,   0],\n",
              "       [  0,   0,   0,   0,   0,   0,   0,   0,   0,   0,   0,   0,   0,\n",
              "          0,   0,   0,   0,   0,   0,   0,   0,   0,   0,   0,   0,   0,\n",
              "          0,   0],\n",
              "       [  0,   0,   0,   0,   0,   0,   0,   0,   0,   0,   0,   0,   0,\n",
              "          0,   0,   0,   0,   0,   0,   0,   0,   0,   0,   0,   0,   0,\n",
              "          0,   0],\n",
              "       [  0,   0,   0,   0,   0,   0,   0,   0,   0,   0,   0,   0,   0,\n",
              "          0,   0,   0,   0,   0,   0,   0,   0,   0,   0,   0,   0,   0,\n",
              "          0,   0],\n",
              "       [  0,   0,   0,   0,   0,   0,   0,   0,   0,   0,   0,   0,   0,\n",
              "          0,   0,   0,   0,   0,   0,   0,   0,   0,   0,   0,   0,   0,\n",
              "          0,   0],\n",
              "       [  0,   0,   0,   0,   0,   0,   0,   0,   0,   0,   0,   0,   3,\n",
              "         18,  18,  18, 126, 136, 175,  26, 166, 255, 247, 127,   0,   0,\n",
              "          0,   0],\n",
              "       [  0,   0,   0,   0,   0,   0,   0,   0,  30,  36,  94, 154, 170,\n",
              "        253, 253, 253, 253, 253, 225, 172, 253, 242, 195,  64,   0,   0,\n",
              "          0,   0],\n",
              "       [  0,   0,   0,   0,   0,   0,   0,  49, 238, 253, 253, 253, 253,\n",
              "        253, 253, 253, 253, 251,  93,  82,  82,  56,  39,   0,   0,   0,\n",
              "          0,   0],\n",
              "       [  0,   0,   0,   0,   0,   0,   0,  18, 219, 253, 253, 253, 253,\n",
              "        253, 198, 182, 247, 241,   0,   0,   0,   0,   0,   0,   0,   0,\n",
              "          0,   0],\n",
              "       [  0,   0,   0,   0,   0,   0,   0,   0,  80, 156, 107, 253, 253,\n",
              "        205,  11,   0,  43, 154,   0,   0,   0,   0,   0,   0,   0,   0,\n",
              "          0,   0],\n",
              "       [  0,   0,   0,   0,   0,   0,   0,   0,   0,  14,   1, 154, 253,\n",
              "         90,   0,   0,   0,   0,   0,   0,   0,   0,   0,   0,   0,   0,\n",
              "          0,   0],\n",
              "       [  0,   0,   0,   0,   0,   0,   0,   0,   0,   0,   0, 139, 253,\n",
              "        190,   2,   0,   0,   0,   0,   0,   0,   0,   0,   0,   0,   0,\n",
              "          0,   0],\n",
              "       [  0,   0,   0,   0,   0,   0,   0,   0,   0,   0,   0,  11, 190,\n",
              "        253,  70,   0,   0,   0,   0,   0,   0,   0,   0,   0,   0,   0,\n",
              "          0,   0],\n",
              "       [  0,   0,   0,   0,   0,   0,   0,   0,   0,   0,   0,   0,  35,\n",
              "        241, 225, 160, 108,   1,   0,   0,   0,   0,   0,   0,   0,   0,\n",
              "          0,   0],\n",
              "       [  0,   0,   0,   0,   0,   0,   0,   0,   0,   0,   0,   0,   0,\n",
              "         81, 240, 253, 253, 119,  25,   0,   0,   0,   0,   0,   0,   0,\n",
              "          0,   0],\n",
              "       [  0,   0,   0,   0,   0,   0,   0,   0,   0,   0,   0,   0,   0,\n",
              "          0,  45, 186, 253, 253, 150,  27,   0,   0,   0,   0,   0,   0,\n",
              "          0,   0],\n",
              "       [  0,   0,   0,   0,   0,   0,   0,   0,   0,   0,   0,   0,   0,\n",
              "          0,   0,  16,  93, 252, 253, 187,   0,   0,   0,   0,   0,   0,\n",
              "          0,   0],\n",
              "       [  0,   0,   0,   0,   0,   0,   0,   0,   0,   0,   0,   0,   0,\n",
              "          0,   0,   0,   0, 249, 253, 249,  64,   0,   0,   0,   0,   0,\n",
              "          0,   0],\n",
              "       [  0,   0,   0,   0,   0,   0,   0,   0,   0,   0,   0,   0,   0,\n",
              "          0,  46, 130, 183, 253, 253, 207,   2,   0,   0,   0,   0,   0,\n",
              "          0,   0],\n",
              "       [  0,   0,   0,   0,   0,   0,   0,   0,   0,   0,   0,   0,  39,\n",
              "        148, 229, 253, 253, 253, 250, 182,   0,   0,   0,   0,   0,   0,\n",
              "          0,   0],\n",
              "       [  0,   0,   0,   0,   0,   0,   0,   0,   0,   0,  24, 114, 221,\n",
              "        253, 253, 253, 253, 201,  78,   0,   0,   0,   0,   0,   0,   0,\n",
              "          0,   0],\n",
              "       [  0,   0,   0,   0,   0,   0,   0,   0,  23,  66, 213, 253, 253,\n",
              "        253, 253, 198,  81,   2,   0,   0,   0,   0,   0,   0,   0,   0,\n",
              "          0,   0],\n",
              "       [  0,   0,   0,   0,   0,   0,  18, 171, 219, 253, 253, 253, 253,\n",
              "        195,  80,   9,   0,   0,   0,   0,   0,   0,   0,   0,   0,   0,\n",
              "          0,   0],\n",
              "       [  0,   0,   0,   0,  55, 172, 226, 253, 253, 253, 253, 244, 133,\n",
              "         11,   0,   0,   0,   0,   0,   0,   0,   0,   0,   0,   0,   0,\n",
              "          0,   0],\n",
              "       [  0,   0,   0,   0, 136, 253, 253, 253, 212, 135, 132,  16,   0,\n",
              "          0,   0,   0,   0,   0,   0,   0,   0,   0,   0,   0,   0,   0,\n",
              "          0,   0],\n",
              "       [  0,   0,   0,   0,   0,   0,   0,   0,   0,   0,   0,   0,   0,\n",
              "          0,   0,   0,   0,   0,   0,   0,   0,   0,   0,   0,   0,   0,\n",
              "          0,   0],\n",
              "       [  0,   0,   0,   0,   0,   0,   0,   0,   0,   0,   0,   0,   0,\n",
              "          0,   0,   0,   0,   0,   0,   0,   0,   0,   0,   0,   0,   0,\n",
              "          0,   0],\n",
              "       [  0,   0,   0,   0,   0,   0,   0,   0,   0,   0,   0,   0,   0,\n",
              "          0,   0,   0,   0,   0,   0,   0,   0,   0,   0,   0,   0,   0,\n",
              "          0,   0]], dtype=uint8)"
            ]
          },
          "execution_count": 49,
          "metadata": {},
          "output_type": "execute_result"
        }
      ],
      "source": [
        "# x_train 행렬이 60000x28x28 인 것을 알았습니다.\n",
        "# 이것은 28x28 이미지가 6만장 있는 것을 의미합니다.\n",
        "# 첫번째 그림 데이터만 가져와 봅시다.\n",
        "#\n",
        "# TODO\n",
        "\n",
        "x_train[0]\n",
        "\n",
        "\n",
        "\n",
        "\n"
      ]
    },
    {
      "cell_type": "markdown",
      "metadata": {
        "id": "q6IshM1HQo4l"
      },
      "source": [
        "## MNIST 화면 출력\n"
      ]
    },
    {
      "cell_type": "code",
      "execution_count": null,
      "metadata": {
        "colab": {
          "base_uri": "https://localhost:8080/",
          "height": 430
        },
        "id": "7NjfBh-5QQwZ",
        "outputId": "b4b3f192-e84f-45ba-cc2f-7cf6f9925d24"
      },
      "outputs": [
        {
          "data": {
            "image/png": "[encoded data removed]",
            "text/plain": [
              "<Figure size 640x480 with 1 Axes>"
            ]
          },
          "metadata": {},
          "output_type": "display_data"
        }
      ],
      "source": [
        "# mnist 화면 출력 예제\n",
        "#\n",
        "# 이미지를 출력하는 imshow() 명령을 사용해서\n",
        "# mnist 이미지를 화면에 출력해 보세요.\n",
        "# imshow() 는 matplotlib.pyplot 에 있습니다.\n",
        "# 6만장의 사진 중 1번째, 10번째, 100번째, 1000번째 사진을 출력해 봅시다.\n",
        "\n",
        "import matplotlib.pyplot as plt\n",
        "\n",
        "# TODO\n",
        "image = x_train[1200]\n",
        "\n",
        "plt.imshow(image, cmap='Greys')\n",
        "plt.show()"
      ]
    },
    {
      "cell_type": "markdown",
      "metadata": {
        "id": "_a7cmEjVaF5z"
      },
      "source": [
        "## 퍼셉트론과 논리게이트"
      ]
    },
    {
      "cell_type": "code",
      "execution_count": null,
      "metadata": {
        "id": "EOdQNSkhZ_aU"
      },
      "outputs": [],
      "source": [
        "# 퍼셉트론으로 AND 연산자를 만들어 봅시다.\n",
        "# w1, w2, theta 값을 적당히 변형해 가면서\n",
        "# 결과가 AND 연산이 되도록 만들어 보세요.\n",
        "#\n",
        "#    w1, w2, theta = .4, .4, .7\n",
        "#\n",
        "# 논리곱 : A AND B = C\n",
        "\n",
        "def AND(x1, x2):    # 0, 1\n",
        "  # TODO\n",
        "  w1, w2, theta =  .7, .1, .7\n",
        "\n",
        "  if x1*w1 + x2*w2 <= theta:\n",
        "    return 0\n",
        "  else :\n",
        "    return 1\n",
        "\n"
      ]
    },
    {
      "cell_type": "code",
      "execution_count": null,
      "metadata": {
        "colab": {
          "base_uri": "https://localhost:8080/"
        },
        "id": "2D9oomRAaSVV",
        "outputId": "c0ff7381-2983-4732-a001-d82f0ffa1706"
      },
      "outputs": [
        {
          "name": "stdout",
          "output_type": "stream",
          "text": [
            "0 0 0 1\n"
          ]
        }
      ],
      "source": [
        "print(AND(0,0), AND(0,1), AND(1,0), AND(1,1))\n",
        "# 0 0 0 1"
      ]
    },
    {
      "cell_type": "code",
      "execution_count": null,
      "metadata": {
        "colab": {
          "base_uri": "https://localhost:8080/"
        },
        "id": "O34Sc7rba3Pm",
        "outputId": "c449b2d9-13a0-4a8d-db59-4c19c426a359"
      },
      "outputs": [
        {
          "name": "stdout",
          "output_type": "stream",
          "text": [
            "0 1 1 1\n"
          ]
        }
      ],
      "source": [
        "# 같은 방법으로 OR 연산자를 만들어 봅시다.\n",
        "# w1, w2, theta 값을 적당히 변형해 가면서\n",
        "# 결과가 OR 연산이 되도록 만들어 보세요.\n",
        "#\n",
        "#    w1, w2, theta = .4, .4, .3\n",
        "#\n",
        "\n",
        "def OR(x1, x2):\n",
        "  # TODO\n",
        "  w1, w2, theta = .4, .4, .3\n",
        "  if x1*w1 + x2*w2 <= theta:\n",
        "    return 0\n",
        "  else :\n",
        "    return 1\n",
        "\n",
        "print(OR(0,0), OR(0,1), OR(1,0), OR(1,1))\n",
        "# 0 1 1 1"
      ]
    },
    {
      "cell_type": "code",
      "execution_count": null,
      "metadata": {
        "colab": {
          "base_uri": "https://localhost:8080/"
        },
        "id": "l-wK627dcM53",
        "outputId": "ab6ecc47-86d2-4512-ba9a-7f6983413473"
      },
      "outputs": [
        {
          "name": "stdout",
          "output_type": "stream",
          "text": [
            "1 1 1 0\n"
          ]
        }
      ],
      "source": [
        "# 같은 방법으로 NAND 연산자를 만들어 봅시다.\n",
        "# w1, w2, theta 값을 적당히 변형해 가면서\n",
        "# 결과가 NAND 연산이 되도록 만들어 보세요.\n",
        "#\n",
        "#    w1, w2, theta = -.4, -.4, -.6\n",
        "#\n",
        "# NAND = AND + NOT\n",
        "\n",
        "def NAND(x1, x2):\n",
        "    w1, w2, theta = -.4, -.4, -.6\n",
        "    if x1*w1 + x2*w2 <= theta:\n",
        "        return 0\n",
        "    else :\n",
        "        return 1\n",
        "\n",
        "\n",
        "print(NAND(0,0), NAND(0,1), NAND(1,0), NAND(1,1))\n",
        "# 1 1 1 0"
      ]
    },
    {
      "cell_type": "code",
      "execution_count": null,
      "metadata": {
        "colab": {
          "base_uri": "https://localhost:8080/"
        },
        "id": "HmTKk5bacX3J",
        "outputId": "7cbf2d8b-11ae-426e-cae6-7b2842e1f8c0"
      },
      "outputs": [
        {
          "name": "stdout",
          "output_type": "stream",
          "text": [
            "00 01 10 11 ==> x1, x2\n",
            "===========\n",
            "0, 0, 0, 1 ==> AND\n",
            "0, 1, 1, 1 ==> OR\n",
            "1, 1, 1, 0 ==> NAND\n"
          ]
        }
      ],
      "source": [
        "# 일반적인 방식으로 AND / OR 연산자 만들기\n",
        "\n",
        "def AND2(x1, x2):\n",
        "  if x1==1 and x2==1:\n",
        "    return 1\n",
        "  else :\n",
        "    return 0\n",
        "\n",
        "def OR2(x1, x2):\n",
        "  if x1==1 or x2==1:\n",
        "    return 1\n",
        "  else :\n",
        "    return 0\n",
        "\n",
        "def NAND2(x1, x2):\n",
        "  if x1==1 and x2==1:\n",
        "    return 0\n",
        "  else :\n",
        "    return 1\n",
        "\n",
        "print(\"00 01 10 11 ==> x1, x2\")\n",
        "print(\"===========\")\n",
        "print(\"{}, {}, {}, {} ==> AND\".format(AND2(0,0), AND2(0,1), AND2(1,0), AND2(1,1)))\n",
        "print(\"{}, {}, {}, {} ==> OR\".format(OR2(0,0), OR2(0,1), OR2(1,0), OR2(1,1)))\n",
        "print(\"{}, {}, {}, {} ==> NAND\".format(NAND2(0,0), NAND2(0,1), NAND2(1,0), NAND2(1,1)))"
      ]
    },
    {
      "cell_type": "markdown",
      "metadata": {
        "id": "Hmyxm8LefgSv"
      },
      "source": [
        "## XOR"
      ]
    },
    {
      "cell_type": "code",
      "execution_count": null,
      "metadata": {
        "colab": {
          "base_uri": "https://localhost:8080/"
        },
        "id": "w-NYeuoHfVSC",
        "outputId": "eba4b76b-f150-4002-9d7c-f72be2dd0e56"
      },
      "outputs": [
        {
          "name": "stdout",
          "output_type": "stream",
          "text": [
            "0 1 1 0\n"
          ]
        }
      ],
      "source": [
        "#  NAND, OR, AND 결합한 XOR 코드\n",
        "\n",
        "import numpy as np\n",
        "import matplotlib.pyplot as plt\n",
        "\n",
        "\n",
        "# 학습을 통해 얻은 변수의 값\n",
        "#\n",
        "# andList = [.4, .4, .7]\n",
        "# orList = [.4, .4, .3]\n",
        "# nandList = [-.4, -.4, -.6]\n",
        "#\n",
        "# TODO\n",
        "#\n",
        "\n",
        "andList =  [ .4, .4, .7 ]  # 0 대신 찾아낸 값을 입력\n",
        "orList =   [ .4, .4, .3 ]\n",
        "nandList = [ -.4, -.4, -.6 ]\n",
        "\n",
        "\n",
        "\n",
        "def AND(x1, x2):\n",
        "    w1, w2, theta = andList\n",
        "    if x1*w1 + x2*w2 <= theta:\n",
        "        return 0\n",
        "    else :\n",
        "        return 1\n",
        "\n",
        "def OR(x1, x2):\n",
        "    w1, w2, theta = orList\n",
        "    if x1*w1 + x2*w2 <= theta:\n",
        "        return 0\n",
        "    else :\n",
        "        return 1\n",
        "\n",
        "def NAND(x1, x2):\n",
        "    w1, w2, theta = nandList\n",
        "    if x1*w1 + x2*w2 <= theta:\n",
        "        return 0\n",
        "    else :\n",
        "        return 1\n",
        "\n",
        "def XOR(x1, x2):\n",
        "    h1 = NAND(x1, x2)\n",
        "    h2 = OR(x1, x2)\n",
        "    return AND(h1, h2)\n",
        "\n",
        "print(XOR(0,0), XOR(0,1), XOR(1,0), XOR(1,1))\n",
        "# 0 1 1 0"
      ]
    },
    {
      "cell_type": "code",
      "execution_count": null,
      "metadata": {
        "id": "Edy6g6mIf97P"
      },
      "outputs": [],
      "source": [
        "# 다층 퍼셉트론의 코드 1\n",
        "\n",
        "import numpy as np\n",
        "\n",
        "def DLPerceptron(X, W1, W2):\n",
        "    x = np.array(X)\n",
        "    w1 = np.array(W1)\n",
        "    w2 = np.array(W2)\n",
        "    h1 = np.array([0.0]*len(X))\n",
        "    y = np.array([0.0]*len(X))\n",
        "    for count in range(len(X)):\n",
        "        h1[count] = np.sum(x*w1[count]) > 0\n",
        "    for count in range(len(x)):\n",
        "        y[count] = np.sum(h1*w2[count]) > 0\n",
        "    return y\n"
      ]
    },
    {
      "cell_type": "code",
      "execution_count": null,
      "metadata": {
        "colab": {
          "base_uri": "https://localhost:8080/"
        },
        "id": "Y5rcUunGgXcn",
        "outputId": "7b4bc56f-6505-41f6-b36e-005e5ba6c5ec"
      },
      "outputs": [
        {
          "name": "stdout",
          "output_type": "stream",
          "text": [
            "x1, x2 = (0, 0) :  [0. 0. 0. 0. 0. 0.]\n",
            "x1, x2 = (0, 1) :  [1. 0. 0. 0. 0. 0.]\n",
            "x1, x2 = (1, 0) :  [1. 0. 0. 0. 0. 0.]\n",
            "x1, x2 = (1, 1) :  [0. 0. 0. 0. 0. 0.]\n"
          ]
        }
      ],
      "source": [
        "# 다층 퍼셉트론의 코드 2\n",
        "\n",
        "W1 = [[-0.4, -0.4, 0, 0, 0, 0.6],\n",
        "[0.4, 0.4, 0, 0, 0, -0.3],\n",
        "[0, 0, 0, 0, 0, 0],\n",
        "[0, 0, 0, 0, 0, 0],\n",
        "[0, 0, 0, 0, 0, 0],\n",
        "[0, 0, 0, 0, 0, 1]]\n",
        "\n",
        "W2 = [[0.4, 0.4, 0, 0, 0, -0.7],\n",
        "[0, 0, 0, 0, 0, 0],\n",
        "[0, 0, 0, 0, 0, 0],\n",
        "[0, 0, 0, 0, 0, 0],\n",
        "[0, 0, 0, 0, 0, 0],\n",
        "[0, 0, 0, 0, 0, 0]]\n",
        "\n",
        "Ex00 = [0,0,0,0,0,1]\n",
        "Ex01 = [0,1,0,0,0,1]\n",
        "Ex10 = [1,0,0,0,0,1]\n",
        "Ex11 = [1,1,0,0,0,1]\n",
        "\n",
        "print(\"x1, x2 = (0, 0) : \", DLPerceptron(Ex00,W1,W2))\n",
        "print(\"x1, x2 = (0, 1) : \", DLPerceptron(Ex01,W1,W2))\n",
        "print(\"x1, x2 = (1, 0) : \", DLPerceptron(Ex10,W1,W2))\n",
        "print(\"x1, x2 = (1, 1) : \", DLPerceptron(Ex11,W1,W2))\n"
      ]
    },
    {
      "cell_type": "markdown",
      "metadata": {
        "id": "XhOR0tdWhaaa"
      },
      "source": [
        "## 활성함수"
      ]
    },
    {
      "cell_type": "code",
      "execution_count": null,
      "metadata": {
        "id": "c8ndu17VhYXl"
      },
      "outputs": [],
      "source": [
        "# 계단함수\n",
        "# 계단함수는 0보다 크면 1, 아니면 0을 반환\n",
        "#\n",
        "#    np.array(x>0)\n",
        "#\n",
        "\n",
        "import numpy as np\n",
        "import matplotlib.pyplot as plt\n",
        "\n",
        "def h(x):\n",
        "  # TODO\n",
        "  return np.array(x>0)\n",
        "\n"
      ]
    },
    {
      "cell_type": "code",
      "execution_count": null,
      "metadata": {
        "colab": {
          "base_uri": "https://localhost:8080/",
          "height": 430
        },
        "id": "O8x2yluNhmLY",
        "outputId": "1fa7d41a-251f-4e0e-c21e-83a55ff4e28b"
      },
      "outputs": [
        {
          "data": {
            "image/png": "[encoded data removed]",
            "text/plain": [
              "<Figure size 640x480 with 1 Axes>"
            ]
          },
          "metadata": {},
          "output_type": "display_data"
        }
      ],
      "source": [
        "x = np.arange(-3, 3, 0.1)\n",
        "y = h(x)\n",
        "plt.plot(x,y)\n",
        "plt.show()"
      ]
    },
    {
      "cell_type": "code",
      "execution_count": null,
      "metadata": {
        "id": "dhZr951mhpqt"
      },
      "outputs": [],
      "source": [
        "# 시그모이드 함수 (S자 곡선) 1\n",
        "# 시그모이드 곡선식은 1 / (1+np.exp(-x)) 입니다.\n",
        "# 들어온 입력이 x 라면 출력은 1 / (1+np.exp(-x)) 이 됩니다.\n",
        "\n",
        "import numpy as np\n",
        "import matplotlib.pyplot as plt\n",
        "\n",
        "def sigmoid(x):\n",
        "  # TODO\n",
        "  return 1 / (1+np.exp(-x))\n",
        "\n"
      ]
    },
    {
      "cell_type": "code",
      "execution_count": null,
      "metadata": {
        "colab": {
          "base_uri": "https://localhost:8080/",
          "height": 430
        },
        "id": "4khgTjhZh2rh",
        "outputId": "75f2a92c-d1ff-4629-8f3e-6f7c6b763af8"
      },
      "outputs": [
        {
          "data": {
            "image/png": "[encoded data removed]",
            "text/plain": [
              "<Figure size 640x480 with 1 Axes>"
            ]
          },
          "metadata": {},
          "output_type": "display_data"
        }
      ],
      "source": [
        "import matplotlib.pyplot as plt\n",
        "\n",
        "x = np.arange(-5, 5, 0.1)\n",
        "y = sigmoid(x)\n",
        "\n",
        "plt.plot(x,y)\n",
        "plt.show()"
      ]
    },
    {
      "cell_type": "code",
      "execution_count": null,
      "metadata": {
        "colab": {
          "base_uri": "https://localhost:8080/",
          "height": 522
        },
        "id": "2F2N5elziWRC",
        "outputId": "fc72db55-0ae8-448a-d771-371a7d066cb9"
      },
      "outputs": [
        {
          "data": {
            "image/png": "[encoded data removed]",
            "text/plain": [
              "<Figure size 800x600 with 1 Axes>"
            ]
          },
          "metadata": {},
          "output_type": "display_data"
        }
      ],
      "source": [
        "# 시그모이드 곡선을 조금 자세히 살펴봅시다.\n",
        "# 그래프의 크기는 figure(figsize=(가로크기, 세로크기)) 로 조절할 수 있습니다.\n",
        "# x 또는 y 의 하한값과 상한값은 xlim(하한, 상한) 이나 ylim(하한, 상한) 을 사용합니다.\n",
        "# x 또는 y 축의 표시되는 값의 범위(tick)는 xtick() 을 이용합니다.\n",
        "# grid() 명령은 모눈을 그려줍니다.\n",
        "# 텍스트를 추가하고 싶으면 text() 명령을 사용합니다.\n",
        "\n",
        "import numpy as np\n",
        "import matplotlib.pyplot as plt\n",
        "\n",
        "x = np.arange(-5, 5, 0.1)\n",
        "y = sigmoid(x)\n",
        "\n",
        "plt.figure(figsize=(8, 6))\n",
        "plt.xlim(-5, 5)\n",
        "plt.xticks(np.arange(-5, 6, 1))\n",
        "plt.yticks(np.arange(0, 1.01, 0.1))\n",
        "plt.grid(dashes=(5,5), linewidth=0.5)\n",
        "plt.text(0,0.2,\"Sigmoid, Groth Curve\", color='blue')\n",
        "\n",
        "plt.plot(x,y)\n",
        "plt.show()\n",
        "\n",
        "# np.arange(0, 1.01, 0.1)"
      ]
    },
    {
      "cell_type": "code",
      "execution_count": null,
      "metadata": {
        "id": "HEOmoySEmBkD"
      },
      "outputs": [],
      "source": [
        "# 하이퍼볼릭 탄젠트\n",
        "#\n",
        "# np.tanh() 명령을 사용합니다.\n",
        "\n",
        "import numpy as np\n",
        "import matplotlib.pyplot as plt\n",
        "\n",
        "def tah(x):\n",
        "  # TODO\n",
        "  return np.tanh(x)\n",
        "\n"
      ]
    },
    {
      "cell_type": "code",
      "execution_count": null,
      "metadata": {
        "colab": {
          "base_uri": "https://localhost:8080/",
          "height": 430
        },
        "id": "T7BEho8GmQKk",
        "outputId": "19538dcb-591d-4c07-fd5a-2befbc84f592"
      },
      "outputs": [
        {
          "data": {
            "image/png": "[encoded data removed]",
            "text/plain": [
              "<Figure size 640x480 with 1 Axes>"
            ]
          },
          "metadata": {},
          "output_type": "display_data"
        }
      ],
      "source": [
        "x = np.arange(-5.0, 5, 0.1)\n",
        "y = tah(x)\n",
        "\n",
        "plt.plot(x,y)\n",
        "plt.show()"
      ]
    },
    {
      "cell_type": "code",
      "execution_count": null,
      "metadata": {
        "colab": {
          "base_uri": "https://localhost:8080/",
          "height": 430
        },
        "id": "1FnDv6iumUFy",
        "outputId": "bb986084-ebe9-42ca-9333-94ea5e14dc5e"
      },
      "outputs": [
        {
          "data": {
            "image/png": "[encoded data removed]",
            "text/plain": [
              "<Figure size 640x480 with 1 Axes>"
            ]
          },
          "metadata": {},
          "output_type": "display_data"
        }
      ],
      "source": [
        "# ReLU\n",
        "#\n",
        "# 입력이 0 보다 크면 들어온 입력값이 그대로 출력,\n",
        "# 입력이 0 보다 작으면 0 을 출력\n",
        "#\n",
        "#     np.maximum(0, x)\n",
        "#\n",
        "\n",
        "import numpy as np\n",
        "import matplotlib.pyplot as plt\n",
        "\n",
        "def relu(x):\n",
        "  # TODO\n",
        "  return np.maximum(0, x)\n",
        "\n",
        "x = np.arange(-5, 5, 0.1)\n",
        "y = relu(x)\n",
        "plt.plot(x,y)\n",
        "plt.show()"
      ]
    },
    {
      "cell_type": "markdown",
      "metadata": {
        "id": "gVMtCsjMnYRb"
      },
      "source": [
        "## 행렬 - 역행렬, 전치행렬"
      ]
    },
    {
      "cell_type": "code",
      "execution_count": null,
      "metadata": {
        "colab": {
          "base_uri": "https://localhost:8080/"
        },
        "id": "YmM5KG55nC_H",
        "outputId": "e53e448f-f3da-4e9a-9130-85b5a0d62944"
      },
      "outputs": [
        {
          "data": {
            "text/plain": [
              "array([[ 3., -1.],\n",
              "       [-2.,  1.]])"
            ]
          },
          "execution_count": 67,
          "metadata": {},
          "output_type": "execute_result"
        }
      ],
      "source": [
        "# 행렬의 역행렬 구하기\n",
        "#\n",
        "# 3*a = 1 이 되는 a 는 ?... 역수(실수의 곱셈에 대한 역원)\n",
        "# 행렬 A 가\n",
        "# [[a,b]\n",
        "#  [c,d]]\n",
        "# 일때,\n",
        "# AxB = E ... [[1,0],[0,1]]\n",
        "# 두 행렬곱이 단위행렬이 될때 B 는 A 의 역행렬\n",
        "#\n",
        "#   B =\n",
        "# [[d,-b]\n",
        "#  [-c,a]] * 1/(ad-bc)\n",
        "#\n",
        "\n",
        "import numpy as np\n",
        "from numpy.linalg import inv\n",
        "\n",
        "A = np.array([[1,1],\n",
        "              [2,3]])\n",
        "\n",
        "inv(A)\n"
      ]
    },
    {
      "cell_type": "code",
      "execution_count": null,
      "metadata": {
        "colab": {
          "base_uri": "https://localhost:8080/"
        },
        "id": "qbFvc5hBqQ5I",
        "outputId": "8bce3cd4-56e0-4216-921f-ebb0f0287104"
      },
      "outputs": [
        {
          "name": "stdout",
          "output_type": "stream",
          "text": [
            "[[500.]\n",
            " [550.]\n",
            " [700.]\n",
            " [600.]]\n"
          ]
        }
      ],
      "source": [
        "# 행렬계산을 위한 파이썬 코드\n",
        "# 연립방정식 풀이\n",
        "#\n",
        "# 포도, 귤, 사과, 배를 각각 1개를 구입하고 2,350원을 지불했습니다.\n",
        "# 다음날 순서대로 5개, 2개, 4개, 7개를 구입하고 10,600원을 지불했습니다.\n",
        "# 다시 다음날 귤 1개, 사과 1개, 배 2개를 구입하고 2,450원을 지불했습니다.\n",
        "# 다음날 5개, 2 개, 2 개, 3개를 구입하고 6,800원을 지불했습니다.\n",
        "# 받은 영수증에는 포도, 귤, 사과, 배의 개별 가격이 기록되지 않은 채 총금액만 적혀 있었습니다.\n",
        "# 그러면 과일들의 개당 가격은 얼마일까요?\n",
        "#\n",
        "\n",
        "import numpy as np\n",
        "from numpy.linalg import inv\n",
        "\n",
        "# A = 구입한 [포도, 귤, 사과, 배] 의 갯수\n",
        "A = np.array([[1,1,1,1],\n",
        "              [5,2,4,7],\n",
        "              [0,1,1,2],\n",
        "              [5,2,2,3]])\n",
        "\n",
        "# B = 지불한 금액\n",
        "B = np.array([[2350],\n",
        "              [10600],\n",
        "              [2450],\n",
        "              [6800]])\n",
        "\n",
        "# A*P = B\n",
        "# P : [포도, 귤, 사과, 배] 의 개당 가격\n",
        "#\n",
        "# A*P = B\n",
        "# inv(A)*A*P = inv(A)*B\n",
        "# P = inv(A)*B\n",
        "#\n",
        "\n",
        "\n",
        "# TODO - 과일들의 개별 가격을 구해보세요.\n",
        "#\n",
        "print(np.dot(inv(A), B))"
      ]
    },
    {
      "cell_type": "code",
      "execution_count": null,
      "metadata": {
        "colab": {
          "base_uri": "https://localhost:8080/"
        },
        "id": "4GWBo9jpm10X",
        "outputId": "c229f030-9cc6-4ed5-a56d-a980a3ca846a"
      },
      "outputs": [
        {
          "name": "stdout",
          "output_type": "stream",
          "text": [
            "A = \n",
            " [[1 1]\n",
            " [2 3]]\n",
            "A.T = \n",
            " [[1 2]\n",
            " [1 3]]\n"
          ]
        }
      ],
      "source": [
        "# 전치행렬은 행렬의 열과 행을 바꾼것\n",
        "#\n",
        "# 행렬 A 가\n",
        "# [[a,b]\n",
        "#  [c,d]]\n",
        "# 일때,\n",
        "# A 의 전치행렬은 A.T 로 표기하고, 내용은\n",
        "# [[a,c]\n",
        "#  [b,d]]\n",
        "# 가 된다.\n",
        "#\n",
        "\n",
        "import numpy as np\n",
        "\n",
        "# (1)행렬을 만들고\n",
        "A = np.array([[1,1],\n",
        "              [2,3]])\n",
        "\n",
        "print(\"A = \\n\", A)\n",
        "print(\"A.T = \\n\", A.T)  # (2)행렬이름 뒤에 .T 를 붙임"
      ]
    },
    {
      "cell_type": "markdown",
      "metadata": {
        "id": "VntPNPWRuqrX"
      },
      "source": [
        "## 신경망 함수 만들기 - random 값 대입"
      ]
    },
    {
      "cell_type": "code",
      "execution_count": null,
      "metadata": {
        "colab": {
          "base_uri": "https://localhost:8080/"
        },
        "id": "5oC-3Si2unHf",
        "outputId": "a9151085-3757-444d-e37c-07031f383720"
      },
      "outputs": [
        {
          "name": "stdout",
          "output_type": "stream",
          "text": [
            "Acc =  0.1028\n"
          ]
        }
      ],
      "source": [
        "# 8.6\t무작위 데이터로 신경망 함수 만들기\n",
        "\n",
        "#00. keras 에서 mnist 데이터 읽어오기\n",
        "import numpy as np\n",
        "from keras.datasets import mnist\n",
        "(x_train, y_train), (x_test, y_test) = mnist.load_data()\n",
        "\n",
        "# 데이터 포맷은 60000,28,28 / 10000,28,28\n",
        "# 데이터를 28x28 에서 784 로 변경\n",
        "x_train = x_train.reshape(60000,784)\n",
        "x_test = x_test.reshape(10000,784)\n",
        "\n",
        "#01 Hidden 1 Layer : W, b 초기화 [W1, W2, B1, B2]\n",
        "def init_mnistbw2(layer_x, layer_h, layer_y):\n",
        "    matrix_nn = {}\n",
        "    matrix_nn = dict(B1=np.random.rand(layer_h),\n",
        "                   B2=np.random.rand(layer_y),\n",
        "                   W1=np.random.rand(layer_x,layer_h),\n",
        "                   W2=np.random.rand(layer_h,layer_y))\n",
        "    return matrix_nn\n",
        "\n",
        "#02. 활성함수\n",
        "def sigmoid(x):\n",
        "    return 1 / (1+np.exp(-x))\n",
        "\n",
        "#03. 소프트맥스 - 이후 설명\n",
        "def softmax(X):\n",
        "    X = X.T - np.max(X.T, axis=0)\n",
        "    return (np.exp(X) / np.sum(np.exp(X), axis=0)).T\n",
        "\n",
        "#04. predict\n",
        "def predict(X):\n",
        "    A = sigmoid(np.dot(X, W1) + B1)\n",
        "    B = sigmoid(np.dot(A, W2) + B2)\n",
        "      # 1 1 1 2 1 [0.2 0.2 0.2 0.4 0.2]=> softmax => [0.1 0.1 0.1 0.5 0.1]\n",
        "    return softmax(B)\n",
        "\n",
        "# process\n",
        "ibw = init_mnistbw2(784,50,10)\n",
        "W1, W2, B1, B2 = ibw['W1'], ibw['W2'], ibw['B1'], ibw['B2']\n",
        "accuracy = 0\n",
        "\n",
        "for i in range(len(x_test)):  # 10,000 x (28x28)\n",
        "    y = predict(x_test[i])    # [0.1  0.1  0.1  0.1  0.1  0.1  0.2  0.0  0.1  0.1 ]\n",
        "    p = np.argmax(y)          # p = 6\n",
        "    if p == y_test[i]:        # y_test[1] .... '6'\n",
        "        accuracy = accuracy + 1\n",
        "\n",
        "print(\"Acc = \", str(float(accuracy/len(x_test))))   # 0.1 근처의 값"
      ]
    },
    {
      "cell_type": "markdown",
      "metadata": {
        "id": "TqG384GnwjON"
      },
      "source": [
        "## 항등함수, 비례확률함수, 소프트맥스"
      ]
    },
    {
      "cell_type": "code",
      "execution_count": null,
      "metadata": {
        "id": "IQuZigO1woGw"
      },
      "outputs": [],
      "source": [
        "# 항등함수\n",
        "# 들어온 입력이 그대로 출력으로 나가는 함수\n",
        "# y = x\n",
        "\n",
        "def identity_function(x):\n",
        "    return x"
      ]
    },
    {
      "cell_type": "code",
      "execution_count": null,
      "metadata": {
        "id": "rvCoZ1Phww6g"
      },
      "outputs": [],
      "source": [
        "# 비례확률함수\n",
        "# 들어온 입력값에 비례하여 백분율 출력이 나가는 함수\n",
        "# y_i = x_i/sum(X)\n",
        "\n",
        "import numpy as np\n",
        "def mean_probability(x):\n",
        "    x = x.T\n",
        "    return (x / np.sum(x, axis=0)).T"
      ]
    },
    {
      "cell_type": "code",
      "execution_count": null,
      "metadata": {
        "colab": {
          "base_uri": "https://localhost:8080/"
        },
        "id": "ndUhnhadxNe_",
        "outputId": "bf0ac3dc-c71d-42c1-f603-06bd26580aa9"
      },
      "outputs": [
        {
          "name": "stdout",
          "output_type": "stream",
          "text": [
            "[0.07142857 0.07142857 0.14285714 0.28571429 0.42857143 0.\n",
            " 0.         0.         0.         0.        ]\n",
            "1.0\n"
          ]
        }
      ],
      "source": [
        "y = np.array([1,1,2,4,6,0,0,0,0,0])\n",
        "print(mean_probability(y))\n",
        "print(sum(mean_probability(y)))"
      ]
    },
    {
      "cell_type": "markdown",
      "metadata": {
        "id": "rMuBcH-rye6J"
      },
      "source": [
        "### 소프트맥스 - 더 크게, 더 작게\n",
        "\n",
        "$ y_k = {{ exp(a_k ) }\\over { \\Sigma  exp(a_i )}}   =  {{e^{a_k}} \\over {e^{a_1}+e^{a_2}+...+e^{a_n}}} $\n",
        "\n"
      ]
    },
    {
      "cell_type": "code",
      "execution_count": null,
      "metadata": {
        "colab": {
          "base_uri": "https://localhost:8080/"
        },
        "id": "CyUeaTbCx1Mb",
        "outputId": "077c1175-6ae7-4322-aea5-0bb847993713"
      },
      "outputs": [
        {
          "data": {
            "text/plain": [
              "array([0.00571245, 0.00571245, 0.01552804, 0.11473753, 0.84780208,\n",
              "       0.00210149, 0.00210149, 0.00210149, 0.00210149, 0.00210149])"
            ]
          },
          "execution_count": 74,
          "metadata": {},
          "output_type": "execute_result"
        }
      ],
      "source": [
        "# 소프트맥스\n",
        "# 작은 값은 더 작게, 큰 값은 더 크게\n",
        "#\n",
        "\n",
        "import numpy as np\n",
        "\n",
        "def softmax(X):\n",
        "    X = X.T - np.max(X.T, axis=0)\n",
        "    return (np.exp(X) / np.sum(np.exp(X), axis=0)).T\n",
        "\n",
        "y = np.array([1,1,2,4,6,0,0,0,0,0])\n",
        "softmax(y)"
      ]
    },
    {
      "cell_type": "code",
      "execution_count": null,
      "metadata": {
        "colab": {
          "base_uri": "https://localhost:8080/",
          "height": 449
        },
        "id": "XJ46Gl6-1G4N",
        "outputId": "d57b01bf-d360-4347-e1e8-7003e78ae7dd"
      },
      "outputs": [
        {
          "data": {
            "text/plain": [
              "[<matplotlib.lines.Line2D at 0x797e87367790>]"
            ]
          },
          "execution_count": 75,
          "metadata": {},
          "output_type": "execute_result"
        },
        {
          "data": {
            "image/png": "[encoded data removed]",
            "text/plain": [
              "<Figure size 640x480 with 1 Axes>"
            ]
          },
          "metadata": {},
          "output_type": "display_data"
        }
      ],
      "source": [
        "y1 = mean_probability(y)\n",
        "y2 = softmax(y)\n",
        "x = np.array(range(10))\n",
        "\n",
        "plt.plot(x,y1, '.', color='blue')\n",
        "plt.plot(x,y2, '*', color='red')"
      ]
    },
    {
      "cell_type": "markdown",
      "metadata": {
        "id": "6YzLXpux22ru"
      },
      "source": [
        "## 손실함수\n",
        "\n",
        "정확도 : 얼마나 정답을 많이 맞췄나?\n",
        "\n",
        "오차도 : 얼마나 정답과 가까이 (혹은 멀리) 있나?"
      ]
    },
    {
      "cell_type": "code",
      "execution_count": null,
      "metadata": {
        "id": "O-lirLJP2iEe"
      },
      "outputs": [],
      "source": [
        "# 평균제곱오차 MSE : Mean Square Error\n",
        "# 평균, 제곱합, 표준편차, 분산\n",
        "#\n",
        "# MSE : 오차들의 제곱의 평균\n",
        "# MSE = SUM((측정값 - 정답)**2) / N\n",
        "\n",
        "\n"
      ]
    },
    {
      "cell_type": "code",
      "execution_count": null,
      "metadata": {
        "id": "zPy0FDXa2Z-v"
      },
      "outputs": [],
      "source": [
        "# MNIST 정답 레이블과 무작위로 만들어진 출력값의 비교\n",
        "y = [.01, .02, .05, .1, .12, .05, .05, .5, .0, .1]   # 결과\n",
        "t = [  0,   0,   0,  0,   0,   0,   0,  1,  0,  0]   # 정답\n",
        "\n",
        "x = np.arange(0, 10)"
      ]
    },
    {
      "cell_type": "code",
      "execution_count": null,
      "metadata": {
        "colab": {
          "base_uri": "https://localhost:8080/",
          "height": 430
        },
        "id": "GoU2A_0E4vEn",
        "outputId": "8d29a76d-0fe0-46a4-e058-af438d769284"
      },
      "outputs": [
        {
          "data": {
            "image/png": "[encoded data removed]",
            "text/plain": [
              "<Figure size 640x480 with 1 Axes>"
            ]
          },
          "metadata": {},
          "output_type": "display_data"
        }
      ],
      "source": [
        "import numpy as np\n",
        "import matplotlib.pyplot as plt\n",
        "\n",
        "plt.plot(x,y, 'r*', 'RED - RESULT')\n",
        "plt.plot(x,t, 'b.', 'BLUE - MNIST')\n",
        "\n",
        "plt.show();\n"
      ]
    },
    {
      "cell_type": "code",
      "execution_count": null,
      "metadata": {
        "id": "CK0EWLId5sPR"
      },
      "outputs": [],
      "source": [
        "# MSE 함수\n",
        "\n",
        "def mse(y,t):\n",
        "    return (np.sum((y-t)**2))/len(y)"
      ]
    },
    {
      "cell_type": "code",
      "execution_count": null,
      "metadata": {
        "colab": {
          "base_uri": "https://localhost:8080/"
        },
        "id": "mj2EOn4H53mc",
        "outputId": "e3e8e1a7-fae3-4dc5-fbd0-901a05599445"
      },
      "outputs": [
        {
          "name": "stdout",
          "output_type": "stream",
          "text": [
            "0.02924 0.1505\n"
          ]
        }
      ],
      "source": [
        "y1 = np.array([.01, .02, .05, .1, .12, .05, .05, .5,  .0, .1])    # GOOD\n",
        "y2 = np.array([.05, .05, .05, .7, .05, .05,  .0, .0, .05, .0])    # BAD\n",
        "t  = np.array([  0,   0,   0,  0,   0,   0,   0,  1,   0,  0])\n",
        "\n",
        "print(mse(y1,t),mse(y2,t))"
      ]
    },
    {
      "cell_type": "code",
      "execution_count": null,
      "metadata": {
        "id": "wFsS6iLb60t8"
      },
      "outputs": [],
      "source": [
        "# 크로스엔트로피 오차 CEE\n",
        "# 엔트로피 - 정보이론, 불확실성에 대한 수치\n",
        "# 놀람의 정도를 표시할 때 비례가 아닌 로그출력으로 표현\n",
        "#\n",
        "# 대학 축구팀 VS 동네 조기 축구회 (90% 승률)\n",
        "#\n",
        "# 대학 축구팀 승리 -> -log(0.9) = 0.1054\n",
        "# 조기 축구회 승리 -> -log(0.1) = 2.3026  (22.85배)\n",
        "#\n",
        "# A대학축구팀 VS B대학축구팀 = 5:5\n",
        "# A대학축구팀 VS 조기축구회 = 9:1\n",
        "#\n",
        "# 기대값 = 이득 * 확률\n",
        "#\n",
        "# 엔트로피 계산\n",
        "\n",
        "def cee(y,t):\n",
        "    return -np.sum(t*np.log(y+1e-7))\n"
      ]
    },
    {
      "cell_type": "code",
      "execution_count": null,
      "metadata": {
        "colab": {
          "base_uri": "https://localhost:8080/"
        },
        "id": "P3nUuxg-9HQH",
        "outputId": "60db36cb-cce9-4361-ef66-890eff0e7c9c"
      },
      "outputs": [
        {
          "name": "stdout",
          "output_type": "stream",
          "text": [
            "MSE = 0.0292 , 0.1505 ... 5.1471\n",
            "CEE = 0.6931 , 16.1181 ... 23.2535\n"
          ]
        }
      ],
      "source": [
        "print('MSE = {:.4f} , {:.4f} ... {:.4f}'.format(mse(y1,t),mse(y2,t),mse(y2,t)/mse(y1,t)))\n",
        "print('CEE = {:.4f} , {:.4f} ... {:.4f}'.format(cee(y1,t),cee(y2,t),cee(y2,t)/cee(y1,t)))"
      ]
    },
    {
      "cell_type": "markdown",
      "metadata": {
        "id": "-onI6fd9_IFO"
      },
      "source": [
        "## 수치미분"
      ]
    },
    {
      "cell_type": "code",
      "execution_count": null,
      "metadata": {
        "colab": {
          "base_uri": "https://localhost:8080/"
        },
        "id": "CxaJsGXY-Sj_",
        "outputId": "dc644232-b175-4370-cd70-d3c52ee0373e"
      },
      "outputs": [
        {
          "name": "stdout",
          "output_type": "stream",
          "text": [
            "15 256 32.000000001630724\n"
          ]
        }
      ],
      "source": [
        "# 미분함수\n",
        "def ndiff(f,x):\n",
        "    h = 0.00001    # x = 15\n",
        "    # TODO\n",
        "    return (f(x+h)-f(x-h))/(2*h)\n",
        "\n",
        "# 일반함수 (미분의 대상이 되는 함수)\n",
        "def funcx2(x):\n",
        "    return x**2 + 2*x + 1\n",
        "\n",
        "x = 15\n",
        "y = funcx2(15)\n",
        "fp = ndiff(funcx2, x)\n",
        "print(x, y, fp)"
      ]
    },
    {
      "cell_type": "code",
      "execution_count": null,
      "metadata": {
        "colab": {
          "base_uri": "https://localhost:8080/",
          "height": 830
        },
        "id": "69iz1XIt_reZ",
        "outputId": "2d3ad811-d071-4f22-f7af-8cd48ff34139"
      },
      "outputs": [
        {
          "data": {
            "image/png": "[encoded data removed]",
            "text/plain": [
              "<Figure size 1200x1000 with 1 Axes>"
            ]
          },
          "metadata": {},
          "output_type": "display_data"
        }
      ],
      "source": [
        "# 수치미분 - 생략\n",
        "\n",
        "import numpy as np\n",
        "import matplotlib.pyplot as plt\n",
        "\n",
        "x0 = 15\n",
        "y0 = funcx2(x0)\n",
        "grad = ndiff(funcx2, x0)\n",
        "# print(x0, y0, grad)\n",
        "\n",
        "x = np.arange(0.00, 30.0, 0.1)\n",
        "y = funcx2(x)\n",
        "y1 = grad*(x-x0)+y0\n",
        "\n",
        "plt.figure(figsize=(12,10))\n",
        "plt.yticks(np.arange(-200, 1000, 100))\n",
        "plt.xticks(np.arange(0,301, 5))\n",
        "plt.grid(dashes=(3,3),linewidth=0.5)\n",
        "\n",
        "plt.text(5, 600, '$x^2 + 2x + 1$', color='blue', fontsize=20)\n",
        "plt.text(20, 350, '$f\\'{(x=15)} = 32$', color='blue', fontsize=20)\n",
        "plt.text(10, 50, 'y = 32x - 224 ', color='red', fontsize=20)\n",
        "\n",
        "plt.plot(x,y, 'k-')\n",
        "plt.plot(x,y1, 'r-')\n",
        "\n",
        "plt.show()"
      ]
    },
    {
      "cell_type": "code",
      "execution_count": null,
      "metadata": {
        "colab": {
          "base_uri": "https://localhost:8080/"
        },
        "id": "HTPc69D8_9QK",
        "outputId": "4bd6302a-3f04-469f-ccfa-e648ce85c2a5"
      },
      "outputs": [
        {
          "data": {
            "text/plain": [
              "[2.0000000000131024, 6.000000000039306]"
            ]
          },
          "execution_count": 85,
          "metadata": {},
          "output_type": "execute_result"
        }
      ],
      "source": [
        "# 편미분\n",
        "\n",
        "h = 1e-5\n",
        "\n",
        "def function_rx(x, y):\n",
        "  return x**2 + y**2\n",
        "\n",
        "def ndiff2(f, x, y):\n",
        "  #\n",
        "  rf_rx = (f(x+h, y)-f(x-h, y))/(2*h)\n",
        "  rf_ry = (f(x, y+h)-f(x, y-h))/(2*h)\n",
        "  return [rf_rx, rf_ry]\n",
        "\n",
        "ndiff2(function_rx, 1, 3)"
      ]
    },
    {
      "cell_type": "markdown",
      "metadata": {
        "id": "p-7EgPmLBSqN"
      },
      "source": [
        "# MNIST 인식 전체 코드"
      ]
    },
    {
      "cell_type": "code",
      "execution_count": null,
      "metadata": {
        "id": "aXa2xFigBSMY"
      },
      "outputs": [],
      "source": [
        "# 13.6.1.[STEP1] 미분과 역전파 선택\n",
        "\n",
        "# 오차역전파와 미분함수 중 선택\n",
        "# process = (미분사용 : 1 , 역전파사용 : 2)\n",
        "\n",
        "process = 2"
      ]
    },
    {
      "cell_type": "code",
      "execution_count": null,
      "metadata": {
        "colab": {
          "base_uri": "https://localhost:8080/"
        },
        "id": "1Edp4FQVBc1S",
        "outputId": "fcad5010-d2b2-4051-e63c-a3dea4c281e0"
      },
      "outputs": [
        {
          "name": "stdout",
          "output_type": "stream",
          "text": [
            "MNIST DataSets 준비 완료\n"
          ]
        }
      ],
      "source": [
        "# 13.6.2.[STEP2] MNIST 데이터 가져오기\n",
        "\n",
        "import numpy as np\n",
        "import time\n",
        "from keras.datasets import mnist\n",
        "\n",
        "(x_train, t_train), (x_test, t_test) = mnist.load_data()\n",
        "t_trainlbl, t_testlbl = t_train, t_test\n",
        "\n",
        "# 28X28 을 784 로 수정\n",
        "x_train = x_train.reshape(60000,784)    # 주석 (1)\n",
        "x_test = x_test.reshape(10000,784)\n",
        "\n",
        "# one-hot label\n",
        "T0 = np.zeros((t_train.size, 10))    #(60000,10) = 000  [0,0,1,0,0,0,0,0,0,0] <= 2\n",
        "T1 = np.zeros((t_test.size, 10))    #(10000,10) = 000\n",
        "\n",
        "for idx in range(t_train.size): T0[idx][t_train[idx]] = 1    #(3))\n",
        "for idx in range(t_test.size): T1[idx][t_test[idx]] = 1\n",
        "\n",
        "t_train, t_test = T0, T1\n",
        "\n",
        "# normalize 0.0 ~ 1.0\n",
        "x_train = x_train / 255     # 0...255 -> 0.0~1.0 : 2**8 - 표준화(N(0,1)), 정규화(0-1)\n",
        "x_test = x_test / 255\n",
        "\n",
        "print('MNIST DataSets 준비 완료')\n"
      ]
    },
    {
      "cell_type": "code",
      "execution_count": null,
      "metadata": {
        "id": "MLBA0uSTBvC1"
      },
      "outputs": [],
      "source": [
        "# 13.6.3. [STEP3] 함수 정의 : 수치미분, 소프트맥스, CEE\n",
        "\n",
        "# 미분함수\n",
        "def numerical_diff(f, x):\n",
        "    h = 1e-4    # 0.0001\n",
        "    nd_coef = np.zeros_like(x)\n",
        "    it = np.nditer(x, flags=['multi_index'], op_flags=['readwrite'])\n",
        "    while not it.finished:\n",
        "        index = it.multi_index\n",
        "        tmp = float(x[index])\n",
        "        x[index] = tmp + h\n",
        "        fxh2 = f()    # f(x+h)\n",
        "        x[index] = tmp - h\n",
        "        fxh1 = f()    # f(x-h)\n",
        "        nd_coef[index] = (fxh2 - fxh1) / (2*h)\n",
        "        x[index] = tmp\n",
        "        it.iternext()\n",
        "    return nd_coef\n",
        "\n",
        "# 소프트맥스\n",
        "def softmax(x):\n",
        "    if x.ndim == 1:  # 기본 1개 처리과정 , 벡터입력\n",
        "        x = x - np.max(x)\n",
        "        return np.exp(x) / np.sum(np.exp(x))\n",
        "    if x.ndim == 2:  # 배치용 n 개 처리, 행렬입력\n",
        "        x = x.T - np.max(x.T, axis=0)\n",
        "        return (np.exp(x) / np.sum(np.exp(x), axis=0)).T\n",
        "\n",
        "# 크로스엔트로피오차\n",
        "def cee(y, t):\n",
        "    if y.ndim == 1:\n",
        "        t = t.reshape(1, t.size)  # 크기가 1xN 인 2차원 행렬로 재구성\n",
        "        y = y.reshape(1, y.size)\n",
        "    result = -np.sum(t * np.log(y + 1e-7)) / y.shape[0]\n",
        "    return result\n"
      ]
    },
    {
      "cell_type": "code",
      "execution_count": null,
      "metadata": {
        "id": "50jPtsIAB3Vw"
      },
      "outputs": [],
      "source": [
        "# 13.6.4. [STEP4] 클래스 정의 : ReLU, Affine, SoftmaxWithLoss,\n",
        "\n",
        "class Relu:\n",
        "    def __init__(self):\n",
        "        self.mask = None\n",
        "\n",
        "    def forward(self, x):\n",
        "        self.mask = (x <= 0)\n",
        "        result = x.copy()\n",
        "        result[self.mask] = 0\n",
        "        return result\n",
        "\n",
        "    def backward(self, dout):\n",
        "        dout[self.mask] = 0\n",
        "        dx = dout\n",
        "        return dx\n",
        "\n",
        "class Affine:\n",
        "    def __init__(self, W, b):\n",
        "        self.W = W    # W0, W1\n",
        "        self.b = b    # b0, b1\n",
        "        self.x = None\n",
        "        self.dW = None    # W0, W1 의 기울기\n",
        "        self.db = None    # b0, b1 의 기울기\n",
        "\n",
        "    def forward(self, x):\n",
        "        self.x = x\n",
        "        result = np.dot(self.x, self.W) + self.b\n",
        "        return result\n",
        "\n",
        "    def backward(self, dout):\n",
        "        dx = np.dot(dout, self.W.T)\n",
        "        self.dW = np.dot(self.x.T, dout)\n",
        "        self.db = np.sum(dout, axis=0)\n",
        "        return dx\n",
        "\n",
        "class SoftmaxWithLoss:\n",
        "    def __init__(self):\n",
        "        self.y = None    # 출력(계산결과)\n",
        "        self.t = None    # 정답(MNIST레이블)\n",
        "\n",
        "    def forward(self, x, t):\n",
        "        self.t = t\n",
        "        self.y = softmax(x)\n",
        "        result = cee(self.y, self.t)\n",
        "        return result\n",
        "\n",
        "    def backward(self, dout=1):\n",
        "        batch_size = self.t.shape[0]\n",
        "        dx = (self.y - self.t) / batch_size\n",
        "        return dx"
      ]
    },
    {
      "cell_type": "code",
      "execution_count": null,
      "metadata": {
        "id": "keQ4VU7PB7C9"
      },
      "outputs": [],
      "source": [
        "# 13.6.5. [STEP5] 클래스 정의 : SimpleNetwork\n",
        "\n",
        "class SimpleNetwork:\n",
        "    def __init__(self, inputx, hidden, outy, weight):\n",
        "        # 가중치 초기화\n",
        "        self.netMat = {}\n",
        "        self.netMat['W0'] = weight * np.random.randn(inputx, hidden)\n",
        "        self.netMat['b0'] = np.zeros(hidden)\n",
        "        self.netMat['W1'] = weight * np.random.randn(hidden, outy)\n",
        "        self.netMat['b1'] = np.zeros(outy)\n",
        "\n",
        "        # 계층 생성\n",
        "        self.netLayers = {}\n",
        "        self.netLayers['Affine1'] = Affine(self.netMat['W0'],\n",
        "                                           self.netMat['b0'])\n",
        "        self.netLayers['Relu1'] = Relu()\n",
        "        self.netLayers['Affine2'] = Affine(self.netMat['W1'],\n",
        "                                           self.netMat['b1'])\n",
        "        self.netLayers['Softmax'] = SoftmaxWithLoss()\n",
        "\n",
        "    def predict(self, x):\n",
        "        x = self.netLayers['Affine1'].forward(x)\n",
        "        x = self.netLayers['Relu1'].forward(x)\n",
        "        x = self.netLayers['Affine2'].forward(x)\n",
        "        return x\n",
        "\n",
        "    # x : 입력 데이터, t : 정답 레이블\n",
        "    def loss(self, x, t):\n",
        "        y = self.predict(x)\n",
        "        return self.netLayers['Softmax'].forward(y, t)\n",
        "\n",
        "    def accuracy(self, x, t):\n",
        "        y = self.predict(x)\n",
        "        y = np.argmax(y, axis=1)\n",
        "        if t.ndim != 1 : t = np.argmax(t, axis=1)\n",
        "        accuracy = np.sum(y == t) / float(x.shape[0])\n",
        "        return accuracy\n",
        "\n",
        "    def numerical_gradient(self, x, t):\n",
        "        lossfunc = lambda : self.loss(x, t)\n",
        "        grads = {}\n",
        "        grads['W0'] = numerical_diff(lossfunc, self.netMat['W0'])\n",
        "        grads['b0'] = numerical_diff(lossfunc, self.netMat['b0'])\n",
        "        grads['W1'] = numerical_diff(lossfunc, self.netMat['W1'])\n",
        "        grads['b1'] = numerical_diff(lossfunc, self.netMat['b1'])\n",
        "        return grads\n",
        "\n",
        "    def gradient(self, x, t):\n",
        "        # forward\n",
        "        self.loss(x, t)\n",
        "\n",
        "        # backward\n",
        "        dout = 1\n",
        "        dout = self.netLayers['Softmax'].backward(dout)\n",
        "        dout = self.netLayers['Affine2'].backward(dout)\n",
        "        dout = self.netLayers['Relu1'].backward(dout)\n",
        "        dout = self.netLayers['Affine1'].backward(dout)\n",
        "\n",
        "        # 기울기(dW, db) 저장\n",
        "        grads = {}\n",
        "        grads['W0'] = self.netLayers['Affine1'].dW\n",
        "        grads['b0'] = self.netLayers['Affine1'].db\n",
        "        grads['W1'] = self.netLayers['Affine2'].dW\n",
        "        grads['b1'] = self.netLayers['Affine2'].db\n",
        "        return grads\n"
      ]
    },
    {
      "cell_type": "code",
      "execution_count": null,
      "metadata": {
        "id": "spiqfat_B8Y1"
      },
      "outputs": [],
      "source": [
        "# 13.6.6. [SETP6] 학습을 위한 설정치 입력\n",
        "\n",
        "train_size = x_train.shape[0]\n",
        "lr = 0.1\n",
        "iter = 0\n",
        "\n",
        "# 미분을 사용할 경우 :: 배치 20, 1000회 반복\n",
        "# (20개 묶음 데이터로 1000번 학습진행)\n",
        "if process == 1:\n",
        "    iters_num = 1000\n",
        "    batch_size = 20\n",
        "    iter_per_epoch = 1\n",
        "\n",
        "# 역전파사용 : 배치 100, 60000회 반복\n",
        "# 100개 묶음 데이터로 60000 회 학습진행\n",
        "else :\n",
        "    iters_num = 60000\n",
        "    batch_size = 100\n",
        "    iter_per_epoch = int(train_size / batch_size)    # 600\n",
        "\n",
        "# MNIST 입력(784), 은닉층(노드 50개), 출력층(노드 10개)\n",
        "network = SimpleNetwork(inputx=784, hidden=100, outy=10, weight = 0.2)\n"
      ]
    },
    {
      "cell_type": "code",
      "execution_count": null,
      "metadata": {
        "colab": {
          "background_save": true,
          "base_uri": "https://localhost:8080/"
        },
        "id": "kEDInbuxB--m",
        "outputId": "18b8ec33-dc06-470a-f430-5bbf481a1756"
      },
      "outputs": [
        {
          "name": "stdout",
          "output_type": "stream",
          "text": [
            "loss = _______  time = ________  n = ______ | [TrainAcc] [TestAcc]\n",
            "loss =  3.1867  time =   0.7368  n = 000001 |  0.1606     0.1593\n",
            "loss =  0.2368  time =   5.4173  n = 000002 |  0.9139     0.9195\n",
            "loss =  0.2016  time =   8.8539  n = 000003 |  0.9336     0.9363\n",
            "loss =  0.1417  time =  11.8151  n = 000004 |  0.9448     0.9445\n",
            "loss =  0.1145  time =  14.7110  n = 000005 |  0.9529     0.9501\n",
            "loss =  0.0609  time =  20.2761  n = 000006 |  0.9580     0.9564\n",
            "loss =  0.2959  time =  23.2303  n = 000007 |  0.9617     0.9590\n",
            "loss =  0.0600  time =  26.1401  n = 000008 |  0.9651     0.9614\n",
            "loss =  0.1155  time =  29.0765  n = 000009 |  0.9683     0.9630\n",
            "loss =  0.1341  time =  34.5955  n = 000010 |  0.9708     0.9647\n",
            "loss =  0.0373  time =  37.5134  n = 000011 |  0.9723     0.9645\n",
            "loss =  0.0622  time =  40.4359  n = 000012 |  0.9744     0.9663\n",
            "loss =  0.1199  time =  43.5849  n = 000013 |  0.9749     0.9666\n",
            "loss =  0.1287  time =  48.7408  n = 000014 |  0.9777     0.9665\n",
            "loss =  0.1056  time =  51.6956  n = 000015 |  0.9785     0.9681\n",
            "loss =  0.0768  time =  54.6191  n = 000016 |  0.9787     0.9660\n",
            "loss =  0.0382  time =  59.0299  n = 000017 |  0.9807     0.9689\n",
            "loss =  0.0743  time =  62.7112  n = 000018 |  0.9818     0.9703\n",
            "loss =  0.0619  time =  65.6783  n = 000019 |  0.9817     0.9688\n",
            "loss =  0.0211  time =  68.6473  n = 000020 |  0.9841     0.9713\n",
            "loss =  0.0407  time =  74.1226  n = 000021 |  0.9821     0.9676\n",
            "loss =  0.0471  time =  77.0653  n = 000022 |  0.9847     0.9698\n",
            "loss =  0.0153  time =  79.9775  n = 000023 |  0.9857     0.9710\n",
            "loss =  0.0182  time =  82.9838  n = 000024 |  0.9864     0.9712\n",
            "loss =  0.0816  time =  88.1683  n = 000025 |  0.9876     0.9715\n",
            "loss =  0.0136  time =  91.0406  n = 000026 |  0.9873     0.9718\n",
            "loss =  0.0273  time =  93.9568  n = 000027 |  0.9883     0.9717\n",
            "loss =  0.0150  time =  97.1836  n = 000028 |  0.9896     0.9722\n",
            "loss =  0.0202  time = 101.8900  n = 000029 |  0.9896     0.9728\n",
            "loss =  0.0084  time = 104.7878  n = 000030 |  0.9890     0.9719\n",
            "loss =  0.0157  time = 107.6631  n = 000031 |  0.9911     0.9729\n",
            "loss =  0.0117  time = 112.8701  n = 000032 |  0.9911     0.9735\n",
            "loss =  0.0120  time = 115.7892  n = 000033 |  0.9915     0.9731\n",
            "loss =  0.0279  time = 118.6648  n = 000034 |  0.9924     0.9732\n",
            "loss =  0.0357  time = 121.5643  n = 000035 |  0.9928     0.9725\n",
            "loss =  0.0252  time = 126.6874  n = 000036 |  0.9933     0.9729\n",
            "loss =  0.0186  time = 129.5504  n = 000037 |  0.9936     0.9738\n",
            "loss =  0.0249  time = 132.4626  n = 000038 |  0.9935     0.9719\n",
            "loss =  0.0118  time = 135.3440  n = 000039 |  0.9933     0.9728\n",
            "loss =  0.0109  time = 140.5259  n = 000040 |  0.9943     0.9734\n",
            "loss =  0.0087  time = 143.4084  n = 000041 |  0.9949     0.9726\n",
            "loss =  0.0110  time = 146.2399  n = 000042 |  0.9950     0.9732\n",
            "loss =  0.0223  time = 149.6526  n = 000043 |  0.9957     0.9734\n",
            "loss =  0.0038  time = 153.8937  n = 000044 |  0.9958     0.9738\n",
            "loss =  0.0166  time = 156.7623  n = 000045 |  0.9964     0.9734\n",
            "loss =  0.0415  time = 159.6351  n = 000046 |  0.9962     0.9737\n",
            "loss =  0.0069  time = 164.5448  n = 000047 |  0.9965     0.9726\n",
            "loss =  0.0141  time = 167.4499  n = 000048 |  0.9967     0.9725\n",
            "loss =  0.0122  time = 170.2793  n = 000049 |  0.9970     0.9726\n",
            "loss =  0.0075  time = 173.1496  n = 000050 |  0.9971     0.9727\n",
            "loss =  0.0043  time = 178.2953  n = 000051 |  0.9975     0.9732\n",
            "loss =  0.0054  time = 181.2043  n = 000052 |  0.9975     0.9728\n",
            "loss =  0.0085  time = 184.0996  n = 000053 |  0.9980     0.9729\n",
            "loss =  0.0084  time = 186.9746  n = 000054 |  0.9980     0.9731\n",
            "loss =  0.0064  time = 192.1166  n = 000055 |  0.9980     0.9734\n",
            "loss =  0.0098  time = 195.0160  n = 000056 |  0.9979     0.9735\n",
            "loss =  0.0127  time = 197.9426  n = 000057 |  0.9979     0.9730\n",
            "loss =  0.0084  time = 200.9449  n = 000058 |  0.9983     0.9726\n",
            "loss =  0.0065  time = 205.8625  n = 000059 |  0.9981     0.9725\n",
            "loss =  0.0054  time = 208.7466  n = 000060 |  0.9985     0.9727\n",
            "loss =  0.0062  time = 211.6637  n = 000061 |  0.9986     0.9737\n",
            "loss =  0.0144  time = 216.6434  n = 000062 |  0.9986     0.9735\n",
            "loss =  0.0079  time = 219.4792  n = 000063 |  0.9988     0.9742\n",
            "loss =  0.0094  time = 222.3683  n = 000064 |  0.9989     0.9738\n",
            "loss =  0.0089  time = 225.2679  n = 000065 |  0.9987     0.9735\n",
            "loss =  0.0068  time = 230.3991  n = 000066 |  0.9988     0.9736\n",
            "loss =  0.0036  time = 233.2744  n = 000067 |  0.9989     0.9723\n",
            "loss =  0.0078  time = 236.1308  n = 000068 |  0.9992     0.9736\n",
            "loss =  0.0065  time = 239.0586  n = 000069 |  0.9990     0.9739\n",
            "loss =  0.0074  time = 244.3544  n = 000070 |  0.9990     0.9733\n",
            "loss =  0.0033  time = 247.2605  n = 000071 |  0.9992     0.9736\n",
            "loss =  0.0056  time = 250.1682  n = 000072 |  0.9993     0.9735\n",
            "loss =  0.0059  time = 253.5086  n = 000073 |  0.9990     0.9748\n",
            "loss =  0.0061  time = 257.8544  n = 000074 |  0.9993     0.9736\n",
            "loss =  0.0072  time = 260.7428  n = 000075 |  0.9994     0.9735\n",
            "loss =  0.0039  time = 263.6456  n = 000076 |  0.9994     0.9737\n",
            "loss =  0.0040  time = 268.5310  n = 000077 |  0.9996     0.9737\n",
            "loss =  0.0029  time = 271.4903  n = 000078 |  0.9995     0.9738\n",
            "loss =  0.0043  time = 274.4440  n = 000079 |  0.9991     0.9735\n",
            "loss =  0.0051  time = 277.3505  n = 000080 |  0.9997     0.9732\n",
            "loss =  0.0016  time = 282.4894  n = 000081 |  0.9997     0.9739\n",
            "loss =  0.0016  time = 285.3798  n = 000082 |  0.9997     0.9734\n",
            "loss =  0.0028  time = 288.2274  n = 000083 |  0.9996     0.9734\n",
            "loss =  0.0055  time = 291.1389  n = 000084 |  0.9997     0.9737\n",
            "loss =  0.0015  time = 296.2923  n = 000085 |  0.9998     0.9745\n",
            "loss =  0.0068  time = 299.1630  n = 000086 |  0.9998     0.9741\n",
            "loss =  0.0014  time = 302.1148  n = 000087 |  0.9998     0.9738\n",
            "loss =  0.0050  time = 305.3587  n = 000088 |  0.9998     0.9743\n",
            "loss =  0.0034  time = 309.8573  n = 000089 |  0.9998     0.9744\n",
            "loss =  0.0059  time = 312.7473  n = 000090 |  0.9998     0.9733\n",
            "loss =  0.0045  time = 315.6615  n = 000091 |  0.9998     0.9740\n",
            "loss =  0.0036  time = 320.7666  n = 000092 |  0.9998     0.9740\n",
            "loss =  0.0039  time = 323.6793  n = 000093 |  0.9998     0.9731\n",
            "loss =  0.0022  time = 326.6118  n = 000094 |  0.9998     0.9738\n",
            "loss =  0.0046  time = 329.4984  n = 000095 |  0.9998     0.9734\n",
            "loss =  0.0038  time = 334.7391  n = 000096 |  0.9999     0.9742\n",
            "loss =  0.0012  time = 337.6311  n = 000097 |  0.9998     0.9741\n",
            "loss =  0.0056  time = 340.4779  n = 000098 |  0.9999     0.9739\n",
            "loss =  0.0015  time = 343.4325  n = 000099 |  0.9999     0.9748\n",
            "loss =  0.0047  time = 349.3508  n = 000100 |  0.9999     0.9744\n"
          ]
        }
      ],
      "source": [
        "# 13.6.7. [STEP7] 학습과 검증\n",
        "\n",
        "# 시간측정 시작\n",
        "t1 = time.time()\n",
        "print('loss = _______  time = ________  n = ______ | [TrainAcc] [TestAcc]')\n",
        "\n",
        "for i in range(iters_num):\n",
        "    batch_mask = np.random.choice(train_size, batch_size)    # 60000 개중 100 개\n",
        "    x_batch = x_train[batch_mask]\n",
        "    t_batch = t_train[batch_mask]\n",
        "\n",
        "    # 기울기 계산\n",
        "\n",
        "    if process==1:\n",
        "        grad = network.numerical_gradient(x_batch, t_batch) # 수치 미분 방식\n",
        "    else:\n",
        "        grad = network.gradient(x_batch, t_batch) # 오차역전파법 방식(훨씬 빠르다)\n",
        "\n",
        "    # 위에서 만들어진 기울기로 W 와 b 갱신\n",
        "    for key in ('W0', 'b0', 'W1', 'b1'):\n",
        "        network.netMat[key] -=  lr * grad[key]\n",
        "\n",
        "    loss = network.loss(x_batch, t_batch)\n",
        "    # train_loss_list.append(loss)\n",
        "\n",
        "    if i % iter_per_epoch == 0:\n",
        "        train_acc = network.accuracy(x_train, t_train)\n",
        "        test_acc = network.accuracy(x_test, t_test)\n",
        "        iter = iter + 1\n",
        "        print('loss = {:7.4f}  '.format(loss), end='')\n",
        "        print('time = {:8.4f}  '.format(time.time()-t1), end='')\n",
        "        print('n = {:06d} |{:8.4f}{:11.4f}'.format(iter, train_acc, test_acc))\n"
      ]
    },
    {
      "cell_type": "code",
      "execution_count": null,
      "metadata": {
        "colab": {
          "background_save": true
        },
        "id": "dY82oBTjCBOE"
      },
      "outputs": [],
      "source": []
    }
  ],
  "metadata": {
    "colab": {
      "provenance": [],
      "include_colab_link": true
    },
    "kernelspec": {
      "display_name": "Python 3",
      "name": "python3"
    }
  },
  "nbformat": 4,
  "nbformat_minor": 0
}