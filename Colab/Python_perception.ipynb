{
  "nbformat": 4,
  "nbformat_minor": 0,
  "metadata": {
    "colab": {
      "provenance": [],
      "collapsed_sections": [
        "8w5xcSM6Oz15",
        "hMSIKZGzQ5hE",
        "7ZtFFrk5VtfX"
      ],
      "authorship_tag": "ABX9TyObMfEev+KZaBPDCE55xFTB",
      "include_colab_link": true
    },
    "kernelspec": {
      "name": "python3",
      "display_name": "Python 3"
    },
    "language_info": {
      "name": "python"
    }
  },
  "cells": [
    {
      "cell_type": "markdown",
      "metadata": {
        "id": "view-in-github",
        "colab_type": "text"
      },
      "source": [
        "<a href=\"https://colab.research.google.com/github/KS0721/Python_Perception/blob/main/Python_perception.ipynb\" target=\"_parent\"><img src=\"https://colab.research.google.com/assets/colab-badge.svg\" alt=\"Open In Colab\"/></a>"
      ]
    },
    {
      "cell_type": "markdown",
      "source": [
        "# MNIST\n",
        "## 28 * 28, 60000, 10000,  [0,1,2,3,4,5,6,7,8,9], 질문(사진), 답(레이블)"
      ],
      "metadata": {
        "id": "8w5xcSM6Oz15"
      }
    },
    {
      "cell_type": "code",
      "execution_count": null,
      "metadata": {
        "colab": {
          "base_uri": "https://localhost:8080/"
        },
        "id": "c2ysfrraNMzw",
        "outputId": "2814fe4c-0f57-45b9-aef6-c214f5185a9d"
      },
      "outputs": [
        {
          "output_type": "stream",
          "name": "stdout",
          "text": [
            "Downloading data from https://storage.googleapis.com/tensorflow/tf-keras-datasets/mnist.npz\n",
            "\u001b[1m11490434/11490434\u001b[0m \u001b[32m━━━━━━━━━━━━━━━━━━━━\u001b[0m\u001b[37m\u001b[0m \u001b[1m0s\u001b[0m 0us/step\n"
          ]
        }
      ],
      "source": [
        "from tensorflow.keras.datasets import mnist\n",
        "(x_train, y_train), (x_test, y_test) = mnist.load_data()"
      ]
    },
    {
      "cell_type": "code",
      "source": [
        "x_train.shape"
      ],
      "metadata": {
        "colab": {
          "base_uri": "https://localhost:8080/"
        },
        "id": "B6wHFmtpQO_9",
        "outputId": "a51178c4-d37f-4a59-8eda-1b96992b0f9f"
      },
      "execution_count": null,
      "outputs": [
        {
          "output_type": "execute_result",
          "data": {
            "text/plain": [
              "(60000, 28, 28)"
            ]
          },
          "metadata": {},
          "execution_count": 4
        }
      ]
    },
    {
      "cell_type": "code",
      "source": [
        "x_train[800]"
      ],
      "metadata": {
        "colab": {
          "base_uri": "https://localhost:8080/",
          "height": 68
        },
        "id": "czK1xM7gWuXu",
        "outputId": "7ed5b0c3-6afb-46ef-ba4f-a3c4f9ef85bd"
      },
      "execution_count": null,
      "outputs": [
        {
          "output_type": "execute_result",
          "data": {
            "text/plain": [
              "array([[  0,   0,   0,   0,   0,   0,   0,   0,   0,   0,   0,   0,   0,\n",
              "          0,   0,   0,   0,   0,   0,   0,   0,   0,   0,   0,   0,   0,\n",
              "          0,   0],\n",
              "       [  0,   0,   0,   0,   0,   0,   0,   0,   0,   0,   0,   0,   0,\n",
              "          0,   0,   0,   0,   0,   0,   0,   0,   0,   0,   0,   0,   0,\n",
              "          0,   0],\n",
              "       [  0,   0,   0,   0,   0,   0,   0,   0,   0,   0,   0,   0,   0,\n",
              "          0,   0,   0,   0,   0,   0,   0,   0,   0,   0,   0,   0,   0,\n",
              "          0,   0],\n",
              "       [  0,   0,   0,   0,   0,   0,   0,   0,   0,   0,   0,   0,   0,\n",
              "          0,   0,   0,   0,   0,   0,   0,   0,   0,   0,   0,   0,   0,\n",
              "          0,   0],\n",
              "       [  0,   0,   0,   0,   0,   0,   0,   0,   0,   0,   0,   0,   0,\n",
              "          0,   0,   0,   0,   0,   0,   0,   0,   0,   0,   0,   0,   0,\n",
              "          0,   0],\n",
              "       [  0,   0,   0,   0,   0,   0,   0,   0,   0,   0,   0,   0,   0,\n",
              "          0,   0,   0,   0,   0,   0,   0,   0,   0,   0,   0,   0,   0,\n",
              "          0,   0],\n",
              "       [  0,   0,   0,   0,   0,   0,   0,   0,   0,   0,   0,   0,   6,\n",
              "        143, 254, 254, 254, 254, 255, 217,  54,   0,   0,   0,   0,   0,\n",
              "          0,   0],\n",
              "       [  0,   0,   0,   0,   0,   0,   0,   0,   0,   0,   0,  26, 181,\n",
              "        254, 254, 254, 254, 254, 254, 254, 165,   0,   0,   0,   0,   0,\n",
              "          0,   0],\n",
              "       [  0,   0,   0,   0,   0,   0,   0,   0,   0,   0,  28, 215, 254,\n",
              "        237, 101,  18,   7,  50, 251, 254, 216,   0,   0,   0,   0,   0,\n",
              "          0,   0],\n",
              "       [  0,   0,   0,   0,   0,   0,   0,   0,   0,   5, 177, 254, 213,\n",
              "         28,   0,   0,   0, 119, 254, 254, 179,   0,   0,   0,   0,   0,\n",
              "          0,   0],\n",
              "       [  0,   0,   0,   0,   0,   0,   0,   0,   0,  51, 254, 253,  84,\n",
              "          0,   0,   0,  34, 251, 254, 254,  69,   0,   0,   0,   0,   0,\n",
              "          0,   0],\n",
              "       [  0,   0,   0,   0,   0,   0,   0,   0,   0, 224, 254, 185,   0,\n",
              "          0,   0, 149, 221, 254, 254, 210,   4,   0,   0,   0,   0,   0,\n",
              "          0,   0],\n",
              "       [  0,   0,   0,   0,   0,   0,   0,   0,  20, 244, 254, 166,   0,\n",
              "          0,   0, 103, 253, 254, 254, 128,   0,   0,   0,   0,   0,   0,\n",
              "          0,   0],\n",
              "       [  0,   0,   0,   0,   0,   0,   0,   0,  60, 254, 254,  96,   0,\n",
              "          0,   0,  68, 252, 254, 237,  13,   0,   0,   0,   0,   0,   0,\n",
              "          0,   0],\n",
              "       [  0,   0,   0,   0,   0,   0,   0,   0,  60, 254, 254,  96,   0,\n",
              "          0,  25, 231, 254, 254, 166,   0,   0,   0,   0,   0,   0,   0,\n",
              "          0,   0],\n",
              "       [  0,   0,   0,   0,   0,   0,   0,   0,  60, 254, 254, 149,  18,\n",
              "         61, 235, 254, 254, 254, 105,   0,   0,   0,   0,   0,   0,   0,\n",
              "          0,   0],\n",
              "       [  0,   0,   0,   0,   0,   0,   0,   0,  26, 246, 254, 242, 234,\n",
              "        254, 254, 254, 254, 254,  85,   0,   0,   0,   0,   0,   0,   0,\n",
              "          0,   0],\n",
              "       [  0,   0,   0,   0,   0,   0,   0,   0,   0, 201, 254, 254, 254,\n",
              "        245, 224, 250, 254, 210,   4,   0,   0,   0,   0,   0,   0,   0,\n",
              "          0,   0],\n",
              "       [  0,   0,   0,   0,   0,   0,   0,   0,   0,  22, 154, 191, 157,\n",
              "         39,  31, 248, 254, 191,   0,   0,   0,   0,   0,   0,   0,   0,\n",
              "          0,   0],\n",
              "       [  0,   0,   0,   0,   0,   0,   0,   0,   0,   0,   0,   0,   0,\n",
              "          0,  65, 254, 254, 191,   0,   0,   0,   0,   0,   0,   0,   0,\n",
              "          0,   0],\n",
              "       [  0,   0,   0,   0,   0,   0,   0,   0,   0,   0,   0,   0,   0,\n",
              "          0, 111, 254, 254, 175,   0,   0,   0,   0,   0,   0,   0,   0,\n",
              "          0,   0],\n",
              "       [  0,   0,   0,   0,   0,   0,   0,   0,   0,   0,   0,   0,   0,\n",
              "          0, 116, 254, 254, 118,   0,   0,   0,   0,   0,   0,   0,   0,\n",
              "          0,   0],\n",
              "       [  0,   0,   0,   0,   0,   0,   0,   0,   0,   0,   0,   0,   0,\n",
              "          1, 197, 254, 254,  83,   0,   0,   0,   0,   0,   0,   0,   0,\n",
              "          0,   0],\n",
              "       [  0,   0,   0,   0,   0,   0,   0,   0,   0,   0,   0,   0,   0,\n",
              "          5, 234, 254, 244,  30,   0,   0,   0,   0,   0,   0,   0,   0,\n",
              "          0,   0],\n",
              "       [  0,   0,   0,   0,   0,   0,   0,   0,   0,   0,   0,   0,   0,\n",
              "         78, 254, 254, 212,   0,   0,   0,   0,   0,   0,   0,   0,   0,\n",
              "          0,   0],\n",
              "       [  0,   0,   0,   0,   0,   0,   0,   0,   0,   0,   0,   0,   0,\n",
              "         34, 234, 212,  43,   0,   0,   0,   0,   0,   0,   0,   0,   0,\n",
              "          0,   0],\n",
              "       [  0,   0,   0,   0,   0,   0,   0,   0,   0,   0,   0,   0,   0,\n",
              "          0,   0,   0,   0,   0,   0,   0,   0,   0,   0,   0,   0,   0,\n",
              "          0,   0],\n",
              "       [  0,   0,   0,   0,   0,   0,   0,   0,   0,   0,   0,   0,   0,\n",
              "          0,   0,   0,   0,   0,   0,   0,   0,   0,   0,   0,   0,   0,\n",
              "          0,   0]], dtype=uint8)"
            ],
            "text/html": [
              "<style>\n",
              "      .ndarray_repr .ndarray_raw_data {\n",
              "        display: none;\n",
              "      }\n",
              "      .ndarray_repr.show_array .ndarray_raw_data {\n",
              "        display: block;\n",
              "      }\n",
              "      .ndarray_repr.show_array .ndarray_image_preview {\n",
              "        display: none;\n",
              "      }\n",
              "      </style>\n",
              "      <div id=\"id-e3dcd11c-8536-404a-85e7-0b728049ae66\" class=\"ndarray_repr\"><pre>ndarray (28, 28) <button style=\"padding: 0 2px;\">show data</button></pre><img src=\"data:image/png;base64,iVBORw0KGgoAAAANSUhEUgAAABwAAAAcCAAAAABXZoBIAAAA5klEQVR4nNXPP0tCURjH8V/SzcnlIkkiKS4NQkOikw5BrUJQe0uvwZfR1BI0SWsQ0eDk4BCuFyMbBOcLF6I/ImrfGm6h3HPP4Oh3PB8enudIa9vWJcDPazXGso+E3ZqWeyG4cJMHMwaGOfc85yQ14cHAMt+nkoozODZwRFvS1RC8zb+nxL+l0wokeQXpbh4drMG5pKM5QUrRybCdVkLtjzisuHUvI3XNX2bHvPsAnJmoHvA1mi5uXW77unOzl5/QibGwQ5Yxcu2+9GZFR3qy4caJNLStdHw+d23YgL712KLfL1lxlX4BnIpa7fbcOicAAAAASUVORK5CYII=\" class=\"ndarray_image_preview\" /><pre class=\"ndarray_raw_data\">array([[  0,   0,   0,   0,   0,   0,   0,   0,   0,   0,   0,   0,   0,\n",
              "          0,   0,   0,   0,   0,   0,   0,   0,   0,   0,   0,   0,   0,\n",
              "          0,   0],\n",
              "       [  0,   0,   0,   0,   0,   0,   0,   0,   0,   0,   0,   0,   0,\n",
              "          0,   0,   0,   0,   0,   0,   0,   0,   0,   0,   0,   0,   0,\n",
              "          0,   0],\n",
              "       [  0,   0,   0,   0,   0,   0,   0,   0,   0,   0,   0,   0,   0,\n",
              "          0,   0,   0,   0,   0,   0,   0,   0,   0,   0,   0,   0,   0,\n",
              "          0,   0],\n",
              "       [  0,   0,   0,   0,   0,   0,   0,   0,   0,   0,   0,   0,   0,\n",
              "          0,   0,   0,   0,   0,   0,   0,   0,   0,   0,   0,   0,   0,\n",
              "          0,   0],\n",
              "       [  0,   0,   0,   0,   0,   0,   0,   0,   0,   0,   0,   0,   0,\n",
              "          0,   0,   0,   0,   0,   0,   0,   0,   0,   0,   0,   0,   0,\n",
              "          0,   0],\n",
              "       [  0,   0,   0,   0,   0,   0,   0,   0,   0,   0,   0,   0,   0,\n",
              "          0,   0,   0,   0,   0,   0,   0,   0,   0,   0,   0,   0,   0,\n",
              "          0,   0],\n",
              "       [  0,   0,   0,   0,   0,   0,   0,   0,   0,   0,   0,   0,   6,\n",
              "        143, 254, 254, 254, 254, 255, 217,  54,   0,   0,   0,   0,   0,\n",
              "          0,   0],\n",
              "       [  0,   0,   0,   0,   0,   0,   0,   0,   0,   0,   0,  26, 181,\n",
              "        254, 254, 254, 254, 254, 254, 254, 165,   0,   0,   0,   0,   0,\n",
              "          0,   0],\n",
              "       [  0,   0,   0,   0,   0,   0,   0,   0,   0,   0,  28, 215, 254,\n",
              "        237, 101,  18,   7,  50, 251, 254, 216,   0,   0,   0,   0,   0,\n",
              "          0,   0],\n",
              "       [  0,   0,   0,   0,   0,   0,   0,   0,   0,   5, 177, 254, 213,\n",
              "         28,   0,   0,   0, 119, 254, 254, 179,   0,   0,   0,   0,   0,\n",
              "          0,   0],\n",
              "       [  0,   0,   0,   0,   0,   0,   0,   0,   0,  51, 254, 253,  84,\n",
              "          0,   0,   0,  34, 251, 254, 254,  69,   0,   0,   0,   0,   0,\n",
              "          0,   0],\n",
              "       [  0,   0,   0,   0,   0,   0,   0,   0,   0, 224, 254, 185,   0,\n",
              "          0,   0, 149, 221, 254, 254, 210,   4,   0,   0,   0,   0,   0,\n",
              "          0,   0],\n",
              "       [  0,   0,   0,   0,   0,   0,   0,   0,  20, 244, 254, 166,   0,\n",
              "          0,   0, 103, 253, 254, 254, 128,   0,   0,   0,   0,   0,   0,\n",
              "          0,   0],\n",
              "       [  0,   0,   0,   0,   0,   0,   0,   0,  60, 254, 254,  96,   0,\n",
              "          0,   0,  68, 252, 254, 237,  13,   0,   0,   0,   0,   0,   0,\n",
              "          0,   0],\n",
              "       [  0,   0,   0,   0,   0,   0,   0,   0,  60, 254, 254,  96,   0,\n",
              "          0,  25, 231, 254, 254, 166,   0,   0,   0,   0,   0,   0,   0,\n",
              "          0,   0],\n",
              "       [  0,   0,   0,   0,   0,   0,   0,   0,  60, 254, 254, 149,  18,\n",
              "         61, 235, 254, 254, 254, 105,   0,   0,   0,   0,   0,   0,   0,\n",
              "          0,   0],\n",
              "       [  0,   0,   0,   0,   0,   0,   0,   0,  26, 246, 254, 242, 234,\n",
              "        254, 254, 254, 254, 254,  85,   0,   0,   0,   0,   0,   0,   0,\n",
              "          0,   0],\n",
              "       [  0,   0,   0,   0,   0,   0,   0,   0,   0, 201, 254, 254, 254,\n",
              "        245, 224, 250, 254, 210,   4,   0,   0,   0,   0,   0,   0,   0,\n",
              "          0,   0],\n",
              "       [  0,   0,   0,   0,   0,   0,   0,   0,   0,  22, 154, 191, 157,\n",
              "         39,  31, 248, 254, 191,   0,   0,   0,   0,   0,   0,   0,   0,\n",
              "          0,   0],\n",
              "       [  0,   0,   0,   0,   0,   0,   0,   0,   0,   0,   0,   0,   0,\n",
              "          0,  65, 254, 254, 191,   0,   0,   0,   0,   0,   0,   0,   0,\n",
              "          0,   0],\n",
              "       [  0,   0,   0,   0,   0,   0,   0,   0,   0,   0,   0,   0,   0,\n",
              "          0, 111, 254, 254, 175,   0,   0,   0,   0,   0,   0,   0,   0,\n",
              "          0,   0],\n",
              "       [  0,   0,   0,   0,   0,   0,   0,   0,   0,   0,   0,   0,   0,\n",
              "          0, 116, 254, 254, 118,   0,   0,   0,   0,   0,   0,   0,   0,\n",
              "          0,   0],\n",
              "       [  0,   0,   0,   0,   0,   0,   0,   0,   0,   0,   0,   0,   0,\n",
              "          1, 197, 254, 254,  83,   0,   0,   0,   0,   0,   0,   0,   0,\n",
              "          0,   0],\n",
              "       [  0,   0,   0,   0,   0,   0,   0,   0,   0,   0,   0,   0,   0,\n",
              "          5, 234, 254, 244,  30,   0,   0,   0,   0,   0,   0,   0,   0,\n",
              "          0,   0],\n",
              "       [  0,   0,   0,   0,   0,   0,   0,   0,   0,   0,   0,   0,   0,\n",
              "         78, 254, 254, 212,   0,   0,   0,   0,   0,   0,   0,   0,   0,\n",
              "          0,   0],\n",
              "       [  0,   0,   0,   0,   0,   0,   0,   0,   0,   0,   0,   0,   0,\n",
              "         34, 234, 212,  43,   0,   0,   0,   0,   0,   0,   0,   0,   0,\n",
              "          0,   0],\n",
              "       [  0,   0,   0,   0,   0,   0,   0,   0,   0,   0,   0,   0,   0,\n",
              "          0,   0,   0,   0,   0,   0,   0,   0,   0,   0,   0,   0,   0,\n",
              "          0,   0],\n",
              "       [  0,   0,   0,   0,   0,   0,   0,   0,   0,   0,   0,   0,   0,\n",
              "          0,   0,   0,   0,   0,   0,   0,   0,   0,   0,   0,   0,   0,\n",
              "          0,   0]], dtype=uint8)</pre></div><script>\n",
              "      (() => {\n",
              "      const titles = ['show data', 'hide data'];\n",
              "      let index = 0\n",
              "      document.querySelector('#id-e3dcd11c-8536-404a-85e7-0b728049ae66 button').onclick = (e) => {\n",
              "        document.querySelector('#id-e3dcd11c-8536-404a-85e7-0b728049ae66').classList.toggle('show_array');\n",
              "        index = (++index) % 2;\n",
              "        document.querySelector('#id-e3dcd11c-8536-404a-85e7-0b728049ae66 button').textContent = titles[index];\n",
              "        e.preventDefault();\n",
              "        e.stopPropagation();\n",
              "      }\n",
              "      })();\n",
              "    </script>"
            ]
          },
          "metadata": {},
          "execution_count": 5
        }
      ]
    },
    {
      "cell_type": "code",
      "source": [
        "import matplotlib.pyplot as plt\n",
        "plt.imshow(x_train[800], cmap='Greys')\n",
        "plt.show()"
      ],
      "metadata": {
        "colab": {
          "base_uri": "https://localhost:8080/",
          "height": 430
        },
        "id": "PR839ulFQX-g",
        "outputId": "f4b65e42-3a9e-4ff6-f65e-e2b853c22f9d"
      },
      "execution_count": null,
      "outputs": [
        {
          "output_type": "display_data",
          "data": {
            "text/plain": [
              "<Figure size 640x480 with 1 Axes>"
            ],
            "image/png": "[encoded data removed]"
          },
          "metadata": {}
        }
      ]
    },
    {
      "cell_type": "markdown",
      "source": [
        "# 퍼셉트론 :\n",
        "## 논리 게이트 : AND, OR\n",
        "\n",
        "| X | Y ||X AND Y | X OR Y |\n",
        "|---|---||---|---|\n",
        "| 1 | 1 || 1 | 1 |\n",
        "| 1 | 0 || 0 | 1 |\n",
        "| 0 | 1 || 0 | 1 |\n",
        "| 0 | 0 || 0 | 0 |"
      ],
      "metadata": {
        "id": "hMSIKZGzQ5hE"
      }
    },
    {
      "cell_type": "code",
      "source": [
        "def AND(x1, x2):\n",
        "  if x1 == 1 and x2 == 1:\n",
        "    return 1\n",
        "  else:\n",
        "    return 0"
      ],
      "metadata": {
        "id": "08prD72aT5NW"
      },
      "execution_count": null,
      "outputs": []
    },
    {
      "cell_type": "code",
      "source": [
        "def AND(x1, x2):\n",
        "#퍼셉트론으로 작성한 AND\n",
        "  w1, w2, b = 0.5, 0.5, 0.7\n",
        "  result = x1 * w1 + x2 * w2\n",
        "  if result <= b:\n",
        "    return 0\n",
        "  else:\n",
        "    return 1"
      ],
      "metadata": {
        "id": "hWfpPD2_TEtR"
      },
      "execution_count": null,
      "outputs": []
    },
    {
      "cell_type": "code",
      "source": [
        "AND(1,1), AND(1,0), AND(0,1), AND(0,0)"
      ],
      "metadata": {
        "colab": {
          "base_uri": "https://localhost:8080/"
        },
        "id": "UAIi47MnUZlv",
        "outputId": "0145e509-f314-4b17-8322-2f547e0830f5"
      },
      "execution_count": null,
      "outputs": [
        {
          "output_type": "execute_result",
          "data": {
            "text/plain": [
              "(1, 0, 0, 0)"
            ]
          },
          "metadata": {},
          "execution_count": 15
        }
      ]
    },
    {
      "cell_type": "code",
      "source": [
        "def OR(x1, x2):\n",
        "#퍼셉트론으로 작성한 OR\n",
        "  w1, w2, b = 0.4, 0.4, 0.3\n",
        "  result = x1 * w1 + x2 * w2\n",
        "  if result <= b:\n",
        "    return 0\n",
        "  else:\n",
        "    return 1"
      ],
      "metadata": {
        "id": "ZR4LGQOsUKzu"
      },
      "execution_count": null,
      "outputs": []
    },
    {
      "cell_type": "code",
      "source": [
        "OR(1,1), OR(1,0), OR(0,1), OR(0,0)"
      ],
      "metadata": {
        "colab": {
          "base_uri": "https://localhost:8080/"
        },
        "id": "r6w5ahLMUtKT",
        "outputId": "1129163a-1a10-4492-a742-9a5505181a1f"
      },
      "execution_count": null,
      "outputs": [
        {
          "output_type": "execute_result",
          "data": {
            "text/plain": [
              "(1, 1, 1, 0)"
            ]
          },
          "metadata": {},
          "execution_count": 17
        }
      ]
    },
    {
      "cell_type": "markdown",
      "source": [
        "#  XOR -- ? 로젠블랏 //마빈 민스키 perception\n",
        "## 1. XOR 풀 수 없다.\n",
        "## 2. 계산방식 수치미분 - 시간 문제, 슈퍼컴퓨터 X"
      ],
      "metadata": {
        "id": "7ZtFFrk5VtfX"
      }
    },
    {
      "cell_type": "code",
      "source": [
        "def AND(x1, x2):\n",
        "#퍼셉트론으로 작성한 AND\n",
        "  w1, w2, b = 0.5, 0.5, 0.7\n",
        "  result = x1 * w1 + x2 * w2\n",
        "  if result <= b:\n",
        "    return 0\n",
        "  else:\n",
        "    return 1\n",
        "\n",
        "def OR(x1, x2):\n",
        "#퍼셉트론으로 작성한 OR\n",
        "  w1, w2, b = 0.4, 0.4, 0.3\n",
        "  result = x1 * w1 + x2 * w2\n",
        "  if result <= b:\n",
        "    return 0\n",
        "  else:\n",
        "    return 1\n",
        "\n",
        "def NAND(x1, x2):\n",
        "#퍼셉트론으로 작성한 NAND\n",
        "  w1, w2, b = -0.5, -0.5, -0.7\n",
        "  result = x1 * w1 + x2 * w2\n",
        "  if result <= b:\n",
        "    return 0\n",
        "  else:\n",
        "    return 1"
      ],
      "metadata": {
        "id": "d1PJCXsaef5j"
      },
      "execution_count": null,
      "outputs": []
    },
    {
      "cell_type": "code",
      "source": [
        "NAND(0,0), NAND(0,1), NAND(1,0), NAND(1,1)"
      ],
      "metadata": {
        "colab": {
          "base_uri": "https://localhost:8080/"
        },
        "id": "NlMIy5mEz6_a",
        "outputId": "238cf138-358c-4f68-b752-ed31b12ec777"
      },
      "execution_count": null,
      "outputs": [
        {
          "output_type": "execute_result",
          "data": {
            "text/plain": [
              "(1, 1, 1, 0)"
            ]
          },
          "metadata": {},
          "execution_count": 10
        }
      ]
    },
    {
      "cell_type": "code",
      "source": [
        "def XOR(x1, x2):\n",
        "  h1 = NAND(x1, x2)\n",
        "  h2 = OR(x1, x2)\n",
        "  return AND(h1,h2)"
      ],
      "metadata": {
        "id": "25Xr8OfxYSOu"
      },
      "execution_count": null,
      "outputs": []
    },
    {
      "cell_type": "code",
      "source": [
        "XOR(0,0), XOR(0,1), XOR(1,0), XOR(1,1)"
      ],
      "metadata": {
        "colab": {
          "base_uri": "https://localhost:8080/"
        },
        "id": "ksuZHmRnaBzG",
        "outputId": "e23da941-c3d1-4f22-e52f-df9578034575"
      },
      "execution_count": null,
      "outputs": [
        {
          "output_type": "execute_result",
          "data": {
            "text/plain": [
              "(0, 1, 1, 0)"
            ]
          },
          "metadata": {},
          "execution_count": 12
        }
      ]
    },
    {
      "cell_type": "code",
      "source": [
        "import numpy as np\n",
        "\n",
        "def DLPerecetion(X, W1, W2):\n",
        "  x = np.array(X)\n",
        "  w1 = np.array(W1)\n",
        "  w2 = np.array(W2)\n",
        "  h1 = np.array([0] *len(x))\n",
        "  y = np.array([0]*len(x))\n",
        "  for count in range(len(x)):\n",
        "    h1[count] = np.sum(x * w1[count]) > 0\n",
        "  for count in range(len(x)):\n",
        "    y[count] = np.sum(h1 * w2[count]) > 0\n",
        "  return y"
      ],
      "metadata": {
        "id": "8GRrHFsJaOEX"
      },
      "execution_count": null,
      "outputs": []
    },
    {
      "cell_type": "code",
      "source": [
        "W1 = [\n",
        "    [-0.4, -0.4, 0, 0, 0, 0.6],\n",
        "    [0.4, 0.4, 0, 0, 0, -0.3],\n",
        "    [0, 0, 0, 0, 0, 0],\n",
        "    [0, 0, 0, 0, 0, 0],\n",
        "    [0, 0, 0, 0, 0, 0],\n",
        "    [0, 0, 0, 0, 0, 1],\n",
        "]\n",
        "W2 = [\n",
        "    [0.4, 0.4, 0, 0, 0, -0.7],\n",
        "    [0, 0, 0, 0, 0, 0],\n",
        "    [0, 0, 0, 0, 0, 0],\n",
        "    [0, 0, 0, 0, 0, 0],\n",
        "    [0, 0, 0, 0, 0, 0],\n",
        "    [0, 0, 0, 0, 0, 0],\n",
        "]"
      ],
      "metadata": {
        "id": "Wri8AExUbJea"
      },
      "execution_count": null,
      "outputs": []
    },
    {
      "cell_type": "code",
      "source": [
        "Ex00 = [0,0,0,0,0,1]\n",
        "Ex01 = [0,1,0,0,0,1]\n",
        "Ex10 = [1,0,0,0,0,1]\n",
        "Ex11 = [1,1,0,0,0,1]\n",
        "\n",
        "print(DLPerecetion(Ex00, W1, W2))\n",
        "print(DLPerecetion(Ex01, W1, W2))\n",
        "print(DLPerecetion(Ex10, W1, W2))\n",
        "print(DLPerecetion(Ex11, W1, W2))"
      ],
      "metadata": {
        "colab": {
          "base_uri": "https://localhost:8080/"
        },
        "id": "S9o-2AKhB_ym",
        "outputId": "07d3ce7b-75d9-4890-b753-5845063a23c6"
      },
      "execution_count": null,
      "outputs": [
        {
          "output_type": "stream",
          "name": "stdout",
          "text": [
            "[0 0 0 0 0 0]\n",
            "[1 0 0 0 0 0]\n",
            "[1 0 0 0 0 0]\n",
            "[0 0 0 0 0 0]\n"
          ]
        }
      ]
    },
    {
      "cell_type": "markdown",
      "source": [
        "# 신경망 함수 만들기"
      ],
      "metadata": {
        "id": "BwEx7Z9QCAct"
      }
    },
    {
      "cell_type": "code",
      "source": [
        "# MNIST 데이터 셋 가져오기\n",
        "\n",
        "import numpy as np\n",
        "from tensorflow.keras.datasets import mnist\n",
        "(x_train, y_train), (x_test, y_test) = mnist.load_data()\n"
      ],
      "metadata": {
        "id": "W2m3cvt_CgMU"
      },
      "execution_count": null,
      "outputs": []
    },
    {
      "cell_type": "code",
      "source": [
        "# x_train,shaoe 60000,28,28 --> 60000 784\n",
        "\n",
        "x_train = x_train.reshape(60000,784)\n",
        "x_test = x_test.reshape(10000, 784)"
      ],
      "metadata": {
        "id": "yLLLyEQZGJVT"
      },
      "execution_count": null,
      "outputs": []
    },
    {
      "cell_type": "code",
      "source": [
        "x_train.shape"
      ],
      "metadata": {
        "colab": {
          "base_uri": "https://localhost:8080/"
        },
        "id": "ju9A5NnTGmqi",
        "outputId": "03f58f06-77a1-40bb-bb16-3a5b7d1d3a29"
      },
      "execution_count": null,
      "outputs": [
        {
          "output_type": "execute_result",
          "data": {
            "text/plain": [
              "(60000, 784)"
            ]
          },
          "metadata": {},
          "execution_count": 5
        }
      ]
    },
    {
      "cell_type": "code",
      "source": [
        "# 입력 - 은닉층(hidden layer) - 출력\n",
        "# w,b, ...[W1,W2,B1,B2]\n",
        "\n",
        "def init_mnistbw2(layer_x, layer_h, layer_y):\n",
        "  matrix_nn = {}\n",
        "  matrix_nn = dict(B1=np.random.randn(layer_h),\n",
        "                   B2=np.random.randn(layer_y),\n",
        "                   W1=np.random.randn(layer_x, layer_h),\n",
        "                   W2=np.random.randn(layer_h, layer_y))\n",
        "  return matrix_nn"
      ],
      "metadata": {
        "id": "5Mi06axeGqbA"
      },
      "execution_count": null,
      "outputs": []
    },
    {
      "cell_type": "code",
      "source": [
        "# 활성함수 - 소프트맥스 : 큰 값은 크게, 작은 값은 작게\n",
        "\n",
        "def softmax(X):\n",
        "  X = X.T - np.max(X.T, axis=0)\n",
        "  return (np.exp(X) / np.sum(np.exp(X), axis=0)).T"
      ],
      "metadata": {
        "id": "cMhEgPGaH8Wb"
      },
      "execution_count": null,
      "outputs": []
    },
    {
      "cell_type": "code",
      "source": [
        "def sigmoid(x):\n",
        "  return 1 / (1 + np.exp(-x))\n",
        "\n",
        "#predict\n",
        "def predict(X):\n",
        "  A = sigmoid(np.dot(X, W1) + B1)\n",
        "  B = sigmoid(np.dot(A, W2) + B2)\n",
        "  return B\n",
        "\n",
        "ibw = init_mnistbw2(784,50,10)\n",
        "W1,W2, B1, B2 = ibw['W1'], ibw['W2'], ibw['B1'], ibw['B2']\n",
        "accuracy = 0\n",
        "\n",
        "for i in range(len(x_test)):\n",
        "  y = predict(x_test[i])\n",
        "  p = np.argmax(y)\n",
        "  if p == y_test[i]:\n",
        "    accuracy += 1\n",
        "\n",
        "print(\"Acc:\" + str(float(accuracy) / len(x_test)))\n",
        "\n",
        "print(accuracy/len(x_test))"
      ],
      "metadata": {
        "colab": {
          "base_uri": "https://localhost:8080/"
        },
        "id": "qmU1JA3OLtOv",
        "outputId": "537030d1-22c2-4118-c414-bbdd3fdfdc1d"
      },
      "execution_count": null,
      "outputs": [
        {
          "output_type": "stream",
          "name": "stderr",
          "text": [
            "<ipython-input-8-a4f88c26b18d>:2: RuntimeWarning: overflow encountered in exp\n",
            "  return 1 / (1 + np.exp(-x))\n"
          ]
        },
        {
          "output_type": "stream",
          "name": "stdout",
          "text": [
            "Acc:0.1174\n",
            "0.1174\n"
          ]
        }
      ]
    },
    {
      "cell_type": "markdown",
      "source": [
        "# MNIST 인식 전체 코드\n",
        "## 오차역전파와 수치 미분함수 중 선택\n",
        "### process = (미분 사용 : 1, 역전파 사용 : 2)"
      ],
      "metadata": {
        "id": "tDXgC8kMMrdc"
      }
    },
    {
      "cell_type": "code",
      "source": [
        "process = 2"
      ],
      "metadata": {
        "id": "Nz7ry5SpNuxv"
      },
      "execution_count": null,
      "outputs": []
    },
    {
      "cell_type": "code",
      "source": [
        "# [STEP2] MNIST 데이터 가져오기\n",
        "\n",
        "import numpy as np\n",
        "import time\n",
        "from keras.datasets import mnist\n",
        "\n",
        "(x_train, t_train), (x_test, t_test) = mnist.load_data()\n",
        "t_trainlbl, t_testlbl = t_train, t_test\n",
        "\n",
        "x_train = x_train.reshape(60000, 784)\n",
        "x_test = x_test.reshape(10000, 784)\n",
        "\n",
        "T0 = np.zeros((t_train.size, 10))\n",
        "T1 = np.zeros((t_test.size, 10))\n",
        "\n",
        "for idx in range(t_train.size):\n",
        "    T0[idx][t_train[idx]] = 1\n",
        "for idx in range(t_test.size):\n",
        "    T1[idx][t_test[idx]] = 1\n",
        "\n",
        "\n",
        "t_train, t_test = T0,T1\n",
        "\n",
        "x_train = x_train / 255\n",
        "x_test = x_test / 255"
      ],
      "metadata": {
        "id": "28F8oh8WN0Oz"
      },
      "execution_count": null,
      "outputs": []
    },
    {
      "cell_type": "code",
      "source": [
        "# 미분함수\n",
        "def numerical_diff(f, x):\n",
        "    h = 1e-4    # 0.0001\n",
        "    nd_coef = np.zeros_like(x)\n",
        "    it = np.nditer(x, flags=['multi_index'], op_flags=['readwrite'])\n",
        "    while not it.finished:\n",
        "        index = it.multi_index\n",
        "        tmp = float(x[index])\n",
        "        x[index] = tmp + h\n",
        "        fxh2 = f()    # f(x+h)\n",
        "        x[index] = tmp - h\n",
        "        fxh1 = f()    # f(x-h)\n",
        "        nd_coef[index] = (fxh2 - fxh1) / (2*h)\n",
        "        x[index] = tmp\n",
        "        it.iternext()\n",
        "    return nd_coef"
      ],
      "metadata": {
        "id": "btxyVBkyPXHJ"
      },
      "execution_count": null,
      "outputs": []
    },
    {
      "cell_type": "code",
      "source": [
        "# 소프트맥스\n",
        "def softmax(x):\n",
        "    if x.ndim == 1:  # 기본 1개 처리과정 , 벡터입력\n",
        "        x = x - np.max(x)\n",
        "        return np.exp(x) / np.sum(np.exp(x))\n",
        "    if x.ndim == 2:  # 배치용 n 개 처리, 행렬입력\n",
        "        x = x.T - np.max(x.T, axis=0)\n",
        "        return (np.exp(x) / np.sum(np.exp(x), axis=0)).T"
      ],
      "metadata": {
        "id": "l_tREA64QpJk"
      },
      "execution_count": null,
      "outputs": []
    },
    {
      "cell_type": "code",
      "source": [
        "# 크로스엔트로피오차\n",
        "def cee(y, t):\n",
        "    if y.ndim == 1:\n",
        "        t = t.reshape(1, t.size)  # 크기가 1xN 인 2차원 행렬로 재구성\n",
        "        y = y.reshape(1, y.size)  # t = [0 0 0 0 1 0 0 0 0 0]\n",
        "                                  # y = [.1 .1 .1 .1 .1 .5 0 0 0]\n",
        "    result = -np.sum(t * np.log(y + 1e-7)) / y.shape[0]\n",
        "    return result"
      ],
      "metadata": {
        "id": "vZKQfPtRRvKc"
      },
      "execution_count": null,
      "outputs": []
    },
    {
      "cell_type": "code",
      "source": [
        "class Relu:\n",
        "    def __init__(self):\n",
        "        self.mask = None\n",
        "\n",
        "    def forward(self, x):\n",
        "        self.mask = (x <= 0)\n",
        "        result = x.copy()\n",
        "        result[self.mask] = 0\n",
        "        return result\n",
        "\n",
        "    def backward(self, dout):\n",
        "        dout[self.mask] = 0\n",
        "        dx = dout\n",
        "        return dx"
      ],
      "metadata": {
        "id": "tOqT33zSSkGy"
      },
      "execution_count": null,
      "outputs": []
    },
    {
      "cell_type": "code",
      "source": [
        "class Affine:\n",
        "    def __init__(self, W, b):\n",
        "        self.W = W    # W0, W1\n",
        "        self.b = b    # b0, b1\n",
        "        self.x = None\n",
        "        self.dW = None    # W0, W1 의 기울기\n",
        "        self.db = None    # b0, b1 의 기울기\n",
        "\n",
        "    def forward(self, x):\n",
        "        self.x = x\n",
        "        result = np.dot(self.x, self.W) + self.b\n",
        "        return result\n",
        "\n",
        "    def backward(self, dout):\n",
        "        dx = np.dot(dout, self.W.T)\n",
        "        self.dW = np.dot(self.x.T, dout)\n",
        "        self.db = np.sum(dout, axis=0)\n",
        "        return dx"
      ],
      "metadata": {
        "id": "fJCxDrDiZ3Ws"
      },
      "execution_count": null,
      "outputs": []
    },
    {
      "cell_type": "code",
      "source": [
        "class SoftmaxWithLoss:\n",
        "    def __init__(self):\n",
        "        self.y = None    # 출력(계산결과)\n",
        "        self.t = None    # 정답(MNIST레이블)\n",
        "\n",
        "    def forward(self, x, t):\n",
        "        self.t = t\n",
        "        self.y = softmax(x)\n",
        "        result = cee(self.y, self.t)\n",
        "        return result\n",
        "\n",
        "    def backward(self, dout=1):\n",
        "        batch_size = self.t.shape[0]\n",
        "        dx = (self.y - self.t) / batch_size\n",
        "        return dx"
      ],
      "metadata": {
        "id": "OhA38XTpZ6Wc"
      },
      "execution_count": null,
      "outputs": []
    },
    {
      "cell_type": "code",
      "source": [
        "# 13.6.5. [STEP5] 클래스 정의 : SimpleNetwork\n",
        "\n",
        "class SimpleNetwork:\n",
        "    def __init__(self, inputx, hidden, outy, weight):\n",
        "        # 가중치 초기화\n",
        "        self.netMat = {}\n",
        "        self.netMat['W0'] = weight * np.random.randn(inputx, hidden)\n",
        "        self.netMat['b0'] = np.zeros(hidden)\n",
        "        self.netMat['W1'] = weight * np.random.randn(hidden, outy)\n",
        "        self.netMat['b1'] = np.zeros(outy)\n",
        "\n",
        "        # 계층 생성\n",
        "        self.netLayers = {}\n",
        "        self.netLayers['Affine1'] = Affine(self.netMat['W0'],\n",
        "                                           self.netMat['b0'])\n",
        "        self.netLayers['Relu1'] = Relu()\n",
        "        self.netLayers['Affine2'] = Affine(self.netMat['W1'],\n",
        "                                           self.netMat['b1'])\n",
        "        self.netLayers['Softmax'] = SoftmaxWithLoss()\n",
        "\n",
        "    def predict(self, x):\n",
        "        x = self.netLayers['Affine1'].forward(x)\n",
        "        x = self.netLayers['Relu1'].forward(x)\n",
        "        x = self.netLayers['Affine2'].forward(x)\n",
        "        return x\n",
        "\n",
        "    # x : 입력 데이터, t : 정답 레이블\n",
        "    def loss(self, x, t):\n",
        "        y = self.predict(x)\n",
        "        return self.netLayers['Softmax'].forward(y, t)\n",
        "\n",
        "    def accuracy(self, x, t):\n",
        "        y = self.predict(x)\n",
        "        y = np.argmax(y, axis=1)\n",
        "        if t.ndim != 1 : t = np.argmax(t, axis=1)\n",
        "        accuracy = np.sum(y == t) / float(x.shape[0])\n",
        "        return accuracy\n",
        "\n",
        "    def numerical_gradient(self, x, t):\n",
        "        lossfunc = lambda : self.loss(x, t)\n",
        "        grads = {}\n",
        "        grads['W0'] = numerical_diff(lossfunc, self.netMat['W0'])\n",
        "        grads['b0'] = numerical_diff(lossfunc, self.netMat['b0'])\n",
        "        grads['W1'] = numerical_diff(lossfunc, self.netMat['W1'])\n",
        "        grads['b1'] = numerical_diff(lossfunc, self.netMat['b1'])\n",
        "        return grads\n",
        "\n",
        "    def gradient(self, x, t):\n",
        "        # forward\n",
        "        self.loss(x, t)\n",
        "\n",
        "        # backward\n",
        "        dout = 1\n",
        "        dout = self.netLayers['Softmax'].backward(dout)\n",
        "        dout = self.netLayers['Affine2'].backward(dout)\n",
        "        dout = self.netLayers['Relu1'].backward(dout)\n",
        "        dout = self.netLayers['Affine1'].backward(dout)\n",
        "\n",
        "        # 기울기(dW, db) 저장\n",
        "        grads = {}\n",
        "        grads['W0'] = self.netLayers['Affine1'].dW\n",
        "        grads['b0'] = self.netLayers['Affine1'].db\n",
        "        grads['W1'] = self.netLayers['Affine2'].dW\n",
        "        grads['b1'] = self.netLayers['Affine2'].db\n",
        "        return grads"
      ],
      "metadata": {
        "id": "GDAOUKqefm7Y"
      },
      "execution_count": null,
      "outputs": []
    },
    {
      "cell_type": "code",
      "source": [
        "# 13.6.6. [SETP6] 학습을 위한 설정치 입력\n",
        "\n",
        "train_size = x_train.shape[0]\n",
        "lr = 0.1\n",
        "iter = 0\n",
        "\n",
        "# 미분을 사용할 경우 :: 배치 20, 1000회 반복\n",
        "# (20개 묶음 데이터로 1000번 학습진행)\n",
        "if process == 1:\n",
        "    iters_num = 1000\n",
        "    batch_size = 20\n",
        "    iter_per_epoch = 1\n",
        "\n",
        "# 역전파사용 : 배치 100, 60000회 반복\n",
        "# 100개 묶음 데이터로 60000 회 학습진행\n",
        "else :\n",
        "    iters_num = 60000\n",
        "    batch_size = 100\n",
        "    iter_per_epoch = int(train_size / batch_size)    # 600\n",
        "\n",
        "# MNIST 입력(784), 은닉층(노드 50개), 출력층(노드 10개)\n",
        "network = SimpleNetwork(inputx=784, hidden=100, outy=10, weight = 0.2)\n"
      ],
      "metadata": {
        "id": "wuM0rU2fgjN_"
      },
      "execution_count": null,
      "outputs": []
    },
    {
      "cell_type": "code",
      "source": [
        "# 13.6.7. [STEP7] 학습과 검증\n",
        "\n",
        "# 시간측정 시작\n",
        "t1 = time.time()\n",
        "print('loss = _______  time = ________  n = ______ | [TrainAcc] [TestAcc]')\n",
        "\n",
        "for i in range(iters_num):\n",
        "    batch_mask = np.random.choice(train_size, batch_size)    # 60000 개중 100 개\n",
        "    x_batch = x_train[batch_mask]\n",
        "    t_batch = t_train[batch_mask]\n",
        "\n",
        "    # 기울기 계산\n",
        "\n",
        "    if process==1:\n",
        "        grad = network.numerical_gradient(x_batch, t_batch) # 수치 미분 방식\n",
        "    else:\n",
        "        grad = network.gradient(x_batch, t_batch) # 오차역전파법 방식(훨씬 빠르다)\n",
        "\n",
        "    # 위에서 만들어진 기울기로 W 와 b 갱신\n",
        "    for key in ('W0', 'b0', 'W1', 'b1'):\n",
        "        network.netMat[key] -=  lr * grad[key]\n",
        "\n",
        "    loss = network.loss(x_batch, t_batch)\n",
        "    # train_loss_list.append(loss)\n",
        "\n",
        "    if i % iter_per_epoch == 0:\n",
        "        train_acc = network.accuracy(x_train, t_train)\n",
        "        test_acc = network.accuracy(x_test, t_test)\n",
        "        iter = iter + 1\n",
        "        print('loss = {:7.4f}  '.format(loss), end='')\n",
        "        print('time = {:8.4f}  '.format(time.time()-t1), end='')\n",
        "        print('n = {:06d} |{:8.4f}{:11.4f}'.format(iter, train_acc, test_acc))"
      ],
      "metadata": {
        "id": "gtb1Ga8tim89"
      },
      "execution_count": null,
      "outputs": []
    }
  ]
}
